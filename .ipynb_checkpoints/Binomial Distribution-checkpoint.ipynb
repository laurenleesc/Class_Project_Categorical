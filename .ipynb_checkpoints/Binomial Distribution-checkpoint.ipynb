{
 "cells": [
  {
   "cell_type": "code",
   "execution_count": 32,
   "metadata": {},
   "outputs": [],
   "source": [
    "import numpy as np\n",
    "import pandas as pd\n",
    "import matplotlib.pyplot as plt\n",
    "%matplotlib inline\n",
    "import random\n",
    "from math import exp,log\n",
    "from sklearn.linear_model import LogisticRegression    #this is to compare our answers to..."
   ]
  },
  {
   "cell_type": "markdown",
   "metadata": {},
   "source": [
    "I simulated 30 observations using Shafi's code.  Then, I wanted to see how sklearn performed.  If sklearn performs poorly, we have no chance in doing better.  What I found is that sklearn cannot even estimate ou betas.  So, I believe there is an issue in our data simulation.  I will branch that code and attempt to reconcile. My reference is https://beckernick.github.io/logistic-regression-from-scratch/."
   ]
  },
  {
   "cell_type": "code",
   "execution_count": 33,
   "metadata": {},
   "outputs": [],
   "source": [
    "X=np.load('bernoulli_X.npy')\n",
    "Beta=np.load('bernoulli_betas.npy')\n",
    "Y=np.load('bernoulli_y.npy')"
   ]
  },
  {
   "cell_type": "code",
   "execution_count": 34,
   "metadata": {},
   "outputs": [
    {
     "data": {
      "text/plain": [
       "array([0, 1, 0, 1, 0, 0, 0, 0, 1, 0, 0, 0, 0, 0, 1, 0, 1, 1, 1, 1, 1, 0,\n",
       "       0, 0, 0, 0, 0, 0, 0, 0])"
      ]
     },
     "execution_count": 34,
     "metadata": {},
     "output_type": "execute_result"
    }
   ],
   "source": [
    "#I simulated 30 observations using Shafi's code\n",
    "Y"
   ]
  },
  {
   "cell_type": "code",
   "execution_count": 36,
   "metadata": {},
   "outputs": [
    {
     "name": "stdout",
     "output_type": "stream",
     "text": [
      "[-0.93284793] [[  5.54930957  -9.00085504  -3.83806012  13.39360136 -11.74046102\n",
      "   23.20384225 -18.95686368  18.02401575 -22.54700936]]\n",
      "[[ 1. ]\n",
      " [ 1. ]\n",
      " [-1.5]\n",
      " [ 2. ]\n",
      " [-2.5]\n",
      " [ 3. ]\n",
      " [-3.5]\n",
      " [ 4. ]\n",
      " [-4.5]]\n"
     ]
    },
    {
     "name": "stderr",
     "output_type": "stream",
     "text": [
      "C:\\ProgramData\\Anaconda3\\lib\\site-packages\\sklearn\\linear_model\\logistic.py:433: FutureWarning: Default solver will be changed to 'lbfgs' in 0.22. Specify a solver to silence this warning.\n",
      "  FutureWarning)\n"
     ]
    }
   ],
   "source": [
    "#let's see how sklearn does on our beta estimation\n",
    "\n",
    "clf = LogisticRegression(fit_intercept=True, C = 1e15)\n",
    "clf.fit(X, Y)\n",
    "\n",
    "print (clf.intercept_, clf.coef_)\n",
    "print (Beta)"
   ]
  },
  {
   "cell_type": "code",
   "execution_count": 13,
   "metadata": {},
   "outputs": [],
   "source": [
    "def LikelihoodBinomial(x, beta, y):\n",
    "    L = 0\n",
    "    for i in range(len(y)):\n",
    "        mu = x[i].T.dot(beta)\n",
    "        L += y[i]*mu - log(1+exp(mu))\n",
    "        print(L)\n",
    "    return L"
   ]
  },
  {
   "cell_type": "code",
   "execution_count": 14,
   "metadata": {},
   "outputs": [
    {
     "name": "stdout",
     "output_type": "stream",
     "text": [
      "[-1.88888883e-08]\n",
      "[-0.00693329]\n",
      "[-0.00693354]\n",
      "[-0.006937]\n",
      "[-0.006937]\n"
     ]
    },
    {
     "data": {
      "text/plain": [
       "array([-0.006937])"
      ]
     },
     "execution_count": 14,
     "metadata": {},
     "output_type": "execute_result"
    }
   ],
   "source": [
    "LikelihoodBinomial(X,Beta,Y)"
   ]
  },
  {
   "cell_type": "code",
   "execution_count": 17,
   "metadata": {},
   "outputs": [],
   "source": [
    "def diffLikelihoodBinomial(x, beta, y):\n",
    "    dL = 0\n",
    "    for i in range(len(y)):\n",
    "        mu = x[i].T.dot(beta)\n",
    "        dL += (y[i] - (1/(1+exp(-mu))))* x[i]\n",
    "    return dL"
   ]
  },
  {
   "cell_type": "code",
   "execution_count": 18,
   "metadata": {},
   "outputs": [
    {
     "data": {
      "text/plain": [
       "array([ 3.44284416e-02,  1.05063415e-03, -2.72129221e-03,  1.17295683e-02,\n",
       "        3.81515471e-03,  1.69072282e-03,  6.90927432e-03,  3.21706332e-06,\n",
       "        2.70785835e-06])"
      ]
     },
     "execution_count": 18,
     "metadata": {},
     "output_type": "execute_result"
    }
   ],
   "source": [
    "diffLikelihoodBinomial(X,Beta,Y)"
   ]
  },
  {
   "cell_type": "code",
   "execution_count": 25,
   "metadata": {},
   "outputs": [],
   "source": [
    "def diff2Binomial(x,beta,y):\n",
    "    d2L = 0\n",
    "    #S = pd.DataFrame(np.zeros((len(y), len(y))))\n",
    "    \n",
    "    for i in range(len(y)):\n",
    "        mu = x[i].T.dot(beta)\n",
    "        #S[i][i] = mu(1-mu)\n",
    "        S = mu*(1-mu)\n",
    "        d2L += (x[i].T.dot(x[i]))*S\n",
    "        print(d2L)\n",
    "    return d2L\n",
    "    "
   ]
  },
  {
   "cell_type": "code",
   "execution_count": 26,
   "metadata": {},
   "outputs": [
    {
     "name": "stdout",
     "output_type": "stream",
     "text": [
      "[-12913.30996078]\n",
      "[-13490.56243583]\n",
      "[-19153.98749256]\n",
      "[-33589.24485968]\n",
      "[-48437.82098446]\n"
     ]
    },
    {
     "data": {
      "text/plain": [
       "array([-2.06450245e-05])"
      ]
     },
     "execution_count": 26,
     "metadata": {},
     "output_type": "execute_result"
    }
   ],
   "source": [
    "1/diff2Binomial(X,Beta,Y)"
   ]
  },
  {
   "cell_type": "code",
   "execution_count": null,
   "metadata": {},
   "outputs": [],
   "source": []
  },
  {
   "cell_type": "code",
   "execution_count": 307,
   "metadata": {},
   "outputs": [],
   "source": [
    "def UpdateBeta(x,beta,y):\n",
    "    beta = beta[1]\n",
    "    print(beta)\n",
    "    InverseDiff2 = diff2Binomial(x,beta,y)\n",
    "    for i in range(len(y)):\n",
    "        mu = x.loc[i].values.T.dot(beta)\n",
    "        xSx = (x.loc[i].values.T.dot(x.loc[i].values))*S\n",
    "        z = (1/xSx)*(y[i] - mu)\n",
    "        z = z[1]\n",
    "        beta += (x.loc[i].values)*z\n",
    "    return beta"
   ]
  },
  {
   "cell_type": "code",
   "execution_count": 309,
   "metadata": {},
   "outputs": [
    {
     "name": "stdout",
     "output_type": "stream",
     "text": [
      "0   -1.101642e+07\n",
      "1   -7.852132e+06\n",
      "2   -2.150992e+06\n",
      "3    2.284154e+07\n",
      "4    5.606072e+06\n",
      "5    1.765265e+06\n",
      "6   -1.051281e+07\n",
      "7   -5.036126e+05\n",
      "8   -3.209461e+07\n",
      "Name: 1, dtype: float64\n"
     ]
    },
    {
     "data": {
      "text/plain": [
       "0   -2.722134e+13\n",
       "1   -1.940242e+13\n",
       "2   -5.314955e+12\n",
       "3    5.644026e+13\n",
       "4    1.385257e+13\n",
       "5    4.361880e+12\n",
       "6   -2.597682e+13\n",
       "7   -1.244522e+12\n",
       "8   -7.930482e+13\n",
       "Name: 1, dtype: float64"
      ]
     },
     "execution_count": 309,
     "metadata": {},
     "output_type": "execute_result"
    }
   ],
   "source": [
    "UpdateBeta(X,Beta,Y)"
   ]
  },
  {
   "cell_type": "code",
   "execution_count": 175,
   "metadata": {},
   "outputs": [],
   "source": [
    "InverseDiff2 = diff2Binomial(X,Beta,Y)"
   ]
  },
  {
   "cell_type": "code",
   "execution_count": 200,
   "metadata": {},
   "outputs": [
    {
     "data": {
      "text/plain": [
       "array([[ 1. ],\n",
       "       [ 1. ],\n",
       "       [-1.5],\n",
       "       [ 2. ],\n",
       "       [-2.5],\n",
       "       [ 3. ],\n",
       "       [-3.5],\n",
       "       [ 4. ],\n",
       "       [-4.5]])"
      ]
     },
     "execution_count": 200,
     "metadata": {},
     "output_type": "execute_result"
    }
   ],
   "source": [
    "Beta.values"
   ]
  },
  {
   "cell_type": "code",
   "execution_count": 168,
   "metadata": {},
   "outputs": [
    {
     "name": "stdout",
     "output_type": "stream",
     "text": [
      "[-32974.46388573]\n",
      "[0.98122742]\n"
     ]
    }
   ],
   "source": [
    "print(InverseDiff2)\n",
    "mu = X.loc[1].values.T.dot(Beta)\n",
    "print(mu)"
   ]
  },
  {
   "cell_type": "code",
   "execution_count": 169,
   "metadata": {},
   "outputs": [
    {
     "data": {
      "text/plain": [
       "1    0.099763\n",
       "dtype: float64"
      ]
     },
     "execution_count": 169,
     "metadata": {},
     "output_type": "execute_result"
    }
   ],
   "source": [
    "(X.loc[1].values.T.dot(X.loc[1].values))*S"
   ]
  },
  {
   "cell_type": "code",
   "execution_count": 195,
   "metadata": {},
   "outputs": [
    {
     "data": {
      "text/plain": [
       "0    1.018773\n",
       "1    1.002847\n",
       "2   -1.507388\n",
       "3    2.031813\n",
       "4   -2.489610\n",
       "5    3.004590\n",
       "6   -3.481227\n",
       "7    4.000000\n",
       "8   -4.500000\n",
       "Name: 1, dtype: float64"
      ]
     },
     "execution_count": 195,
     "metadata": {},
     "output_type": "execute_result"
    }
   ],
   "source": [
    "Beta[1] +(X.loc[1].values.T *(Y[1] - mu))"
   ]
  },
  {
   "cell_type": "code",
   "execution_count": 212,
   "metadata": {},
   "outputs": [
    {
     "name": "stdout",
     "output_type": "stream",
     "text": [
      "[[ 1. ]\n",
      " [ 1. ]\n",
      " [-1.5]\n",
      " [ 2. ]\n",
      " [-2.5]\n",
      " [ 3. ]\n",
      " [-3.5]\n",
      " [ 4. ]\n",
      " [-4.5]]\n",
      "[-11.35653898]\n",
      "1    0.187674\n",
      "dtype: float64\n",
      "1    5.328388\n",
      "dtype: float64\n"
     ]
    },
    {
     "ename": "TypeError",
     "evalue": "unsupported operand type(s) for *: 'NoneType' and 'float'",
     "output_type": "error",
     "traceback": [
      "\u001b[0;31m---------------------------------------------------------------------------\u001b[0m",
      "\u001b[0;31mTypeError\u001b[0m                                 Traceback (most recent call last)",
      "\u001b[0;32m<ipython-input-212-65273d8a398c>\u001b[0m in \u001b[0;36m<module>\u001b[0;34m\u001b[0m\n\u001b[0;32m----> 1\u001b[0;31m \u001b[0mUpdateBeta\u001b[0m\u001b[0;34m(\u001b[0m\u001b[0mX\u001b[0m\u001b[0;34m,\u001b[0m\u001b[0mBeta\u001b[0m\u001b[0;34m,\u001b[0m\u001b[0mY\u001b[0m\u001b[0;34m)\u001b[0m\u001b[0;34m\u001b[0m\u001b[0;34m\u001b[0m\u001b[0m\n\u001b[0m",
      "\u001b[0;32m<ipython-input-211-f3a6d9b7129e>\u001b[0m in \u001b[0;36mUpdateBeta\u001b[0;34m(x, beta, y)\u001b[0m\n\u001b[1;32m      9\u001b[0m         \u001b[0mprint\u001b[0m\u001b[0;34m(\u001b[0m\u001b[0mxSx\u001b[0m\u001b[0;34m)\u001b[0m\u001b[0;34m\u001b[0m\u001b[0;34m\u001b[0m\u001b[0m\n\u001b[1;32m     10\u001b[0m         \u001b[0;31m#beta +=  (1/xSx)* (x.loc[i].values.T *(y[i] - mu))\u001b[0m\u001b[0;34m\u001b[0m\u001b[0;34m\u001b[0m\u001b[0;34m\u001b[0m\u001b[0m\n\u001b[0;32m---> 11\u001b[0;31m         \u001b[0mprint\u001b[0m\u001b[0;34m(\u001b[0m\u001b[0;36m1\u001b[0m\u001b[0;34m/\u001b[0m\u001b[0mxSx\u001b[0m\u001b[0;34m)\u001b[0m\u001b[0;34m*\u001b[0m \u001b[0;34m(\u001b[0m\u001b[0mx\u001b[0m\u001b[0;34m.\u001b[0m\u001b[0mloc\u001b[0m\u001b[0;34m[\u001b[0m\u001b[0mi\u001b[0m\u001b[0;34m]\u001b[0m\u001b[0;34m.\u001b[0m\u001b[0mvalues\u001b[0m\u001b[0;34m.\u001b[0m\u001b[0mT\u001b[0m \u001b[0;34m*\u001b[0m\u001b[0;34m(\u001b[0m\u001b[0my\u001b[0m\u001b[0;34m[\u001b[0m\u001b[0mi\u001b[0m\u001b[0;34m]\u001b[0m \u001b[0;34m-\u001b[0m \u001b[0mmu\u001b[0m\u001b[0;34m)\u001b[0m\u001b[0;34m)\u001b[0m\u001b[0;34m\u001b[0m\u001b[0;34m\u001b[0m\u001b[0m\n\u001b[0m\u001b[1;32m     12\u001b[0m     \u001b[0;32mreturn\u001b[0m \u001b[0mbeta\u001b[0m\u001b[0;34m\u001b[0m\u001b[0;34m\u001b[0m\u001b[0m\n",
      "\u001b[0;31mTypeError\u001b[0m: unsupported operand type(s) for *: 'NoneType' and 'float'"
     ]
    }
   ],
   "source": []
  },
  {
   "cell_type": "code",
   "execution_count": null,
   "metadata": {},
   "outputs": [],
   "source": []
  }
 ],
 "metadata": {
  "kernelspec": {
   "display_name": "Python 3",
   "language": "python",
   "name": "python3"
  },
  "language_info": {
   "codemirror_mode": {
    "name": "ipython",
    "version": 3
   },
   "file_extension": ".py",
   "mimetype": "text/x-python",
   "name": "python",
   "nbconvert_exporter": "python",
   "pygments_lexer": "ipython3",
   "version": "3.7.3"
  }
 },
 "nbformat": 4,
 "nbformat_minor": 2
}
