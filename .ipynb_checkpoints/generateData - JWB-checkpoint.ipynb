{
 "cells": [
  {
   "cell_type": "markdown",
   "metadata": {},
   "source": [
    "# Investigating Bias in MLE Applied to GLMs\n",
    "\n",
    "In this notebook, we will explore various factors affecting the quality of MLE estimates of GLM parameters. Initial investigation suggests that *at least* 3 factors play a major role:\n",
    "1. Number of observations (n):\n",
    "\n",
    "    It appears that, as expected, increasing n leads to better approximation to true betas (and standard error estimates converge on CRLB?)\n",
    "    \n",
    "    \n",
    "2. Number of predictors (p):\n",
    "\n",
    "    Increasing the number of predictors appears to increase bias and standard error estimates become far too small (i.e. percent true betas captured in 95% CI is well below 95%)\n",
    "    \n",
    "    \n",
    "3. Spread of Betas:\n",
    "\n",
    "    Larger range in value of parameters/betas appears to increase bias and standard error estimates become far too small. **Additionally, wider beta range appears to harm convergence of optimization algorithms**\n",
    "    \n",
    "Working Hypothesis is that much of this trouble stems from the link function (e.g. the squishing from the sigmoid at the boundaries). We will need to look at MLE for regular OLS for baseline, and at least one more link function would be helpful."
   ]
  },
  {
   "cell_type": "markdown",
   "metadata": {},
   "source": [
    "## Section 1 - Imports and Preliminaries\n",
    "\n",
    "Importing required packages."
   ]
  },
  {
   "cell_type": "code",
   "execution_count": 177,
   "metadata": {},
   "outputs": [],
   "source": [
    "import numpy as np\n",
    "import pandas as pd\n",
    "import matplotlib.pyplot as plt\n",
    "%matplotlib inline\n",
    "import random"
   ]
  },
  {
   "cell_type": "markdown",
   "metadata": {},
   "source": [
    "## Section 2 - Functions to Generate Data and Betas"
   ]
  },
  {
   "cell_type": "markdown",
   "metadata": {},
   "source": [
    "### Function for Generating Standard Normal I.I.D. Predictors\n",
    "\n",
    "For now, we restrict our attention to predictors whose values are all drawn from a standard normal distribution N(0,1). We may come back later and look at variations in predictor distributions and/or predictor types such as count or nominal.\n",
    "\n",
    "**NOTE: The seeds have been turned off to allow distribution of predictors to vary from simulation to simulation**"
   ]
  },
  {
   "cell_type": "code",
   "execution_count": 178,
   "metadata": {},
   "outputs": [],
   "source": [
    "def generateNormalVariables(n, p):\n",
    "\n",
    "    X = {} # initialize dictionary to hold values\n",
    "\n",
    "    for j in range(p):\n",
    "        #np.random.seed(seed = j)   #seed for distribution\n",
    "        #random.seed(j)   #seed for random number generator\n",
    "        X[j] = np.random.normal(0, 1, n)\n",
    "    return X"
   ]
  },
  {
   "cell_type": "code",
   "execution_count": 179,
   "metadata": {},
   "outputs": [
    {
     "data": {
      "text/plain": [
       "(array([  7.,  40.,  94., 173., 228., 204., 155.,  69.,  26.,   4.]),\n",
       " array([-2.86648047, -2.27532857, -1.68417668, -1.09302479, -0.50187289,\n",
       "         0.089279  ,  0.6804309 ,  1.27158279,  1.86273469,  2.45388658,\n",
       "         3.04503847]),\n",
       " <a list of 10 Patch objects>)"
      ]
     },
     "execution_count": 179,
     "metadata": {},
     "output_type": "execute_result"
    },
    {
     "data": {
      "image/png": "[encoded data removed]",
      "text/plain": [
       "<Figure size 432x288 with 1 Axes>"
      ]
     },
     "metadata": {
      "needs_background": "light"
     },
     "output_type": "display_data"
    }
   ],
   "source": [
    "# Visualizing distribution of a few variables from generateNormalVariables (density plots would be better)\n",
    "var_dict = generateNormalVariables(1000,100)\n",
    "plt.hist(var_dict[0])\n",
    "plt.hist(var_dict[1])\n",
    "plt.hist(var_dict[4])\n",
    "plt.hist(var_dict[3])\n",
    "plt.hist(var_dict[2])\n",
    "plt.hist(var_dict[5])"
   ]
  },
  {
   "cell_type": "markdown",
   "metadata": {},
   "source": [
    "### Function for Generating Data\n",
    "\n",
    "Previously, we had this function separate since we were also generating other variable types. Now, it is a tad superfluous. Whatever. Now, it just generates a column of 1's for the model intercept and then the predictors using the previously defined function - generateNormalVariables - and concatenates them. It returns a dataframe of, well, data."
   ]
  },
  {
   "cell_type": "code",
   "execution_count": 180,
   "metadata": {},
   "outputs": [],
   "source": [
    "def generateX(n,p):\n",
    "    \n",
    "    # Initialize dataframe with an intercept column\n",
    "    intercept = np.repeat(1,n) # Create n 1's for intercept column\n",
    "    X = pd.DataFrame(intercept.reshape(n,1))\n",
    "    \n",
    "    # Generate data\n",
    "    if p != 0:\n",
    "        Xnorm = generateNormalVariables(n, p)\n",
    "        Xnorm = pd.DataFrame.from_dict(Xnorm)\n",
    "        X = pd.concat([X, Xnorm],ignore_index=True,axis=1)\n",
    "    \n",
    "    return X"
   ]
  },
  {
   "cell_type": "code",
   "execution_count": 181,
   "metadata": {},
   "outputs": [
    {
     "data": {
      "text/html": [
       "<div>\n",
       "<style scoped>\n",
       "    .dataframe tbody tr th:only-of-type {\n",
       "        vertical-align: middle;\n",
       "    }\n",
       "\n",
       "    .dataframe tbody tr th {\n",
       "        vertical-align: top;\n",
       "    }\n",
       "\n",
       "    .dataframe thead th {\n",
       "        text-align: right;\n",
       "    }\n",
       "</style>\n",
       "<table border=\"1\" class=\"dataframe\">\n",
       "  <thead>\n",
       "    <tr style=\"text-align: right;\">\n",
       "      <th></th>\n",
       "      <th>0</th>\n",
       "      <th>1</th>\n",
       "      <th>2</th>\n",
       "    </tr>\n",
       "  </thead>\n",
       "  <tbody>\n",
       "    <tr>\n",
       "      <td>0</td>\n",
       "      <td>1</td>\n",
       "      <td>1.388162</td>\n",
       "      <td>0.741196</td>\n",
       "    </tr>\n",
       "    <tr>\n",
       "      <td>1</td>\n",
       "      <td>1</td>\n",
       "      <td>0.440812</td>\n",
       "      <td>1.417674</td>\n",
       "    </tr>\n",
       "    <tr>\n",
       "      <td>2</td>\n",
       "      <td>1</td>\n",
       "      <td>-1.105101</td>\n",
       "      <td>-1.713237</td>\n",
       "    </tr>\n",
       "    <tr>\n",
       "      <td>3</td>\n",
       "      <td>1</td>\n",
       "      <td>1.621268</td>\n",
       "      <td>-1.907850</td>\n",
       "    </tr>\n",
       "    <tr>\n",
       "      <td>4</td>\n",
       "      <td>1</td>\n",
       "      <td>-1.703778</td>\n",
       "      <td>0.199010</td>\n",
       "    </tr>\n",
       "    <tr>\n",
       "      <td>5</td>\n",
       "      <td>1</td>\n",
       "      <td>-0.388422</td>\n",
       "      <td>1.302016</td>\n",
       "    </tr>\n",
       "    <tr>\n",
       "      <td>6</td>\n",
       "      <td>1</td>\n",
       "      <td>-0.723372</td>\n",
       "      <td>-0.614913</td>\n",
       "    </tr>\n",
       "    <tr>\n",
       "      <td>7</td>\n",
       "      <td>1</td>\n",
       "      <td>0.667256</td>\n",
       "      <td>-0.365596</td>\n",
       "    </tr>\n",
       "    <tr>\n",
       "      <td>8</td>\n",
       "      <td>1</td>\n",
       "      <td>0.807803</td>\n",
       "      <td>-0.929266</td>\n",
       "    </tr>\n",
       "    <tr>\n",
       "      <td>9</td>\n",
       "      <td>1</td>\n",
       "      <td>-1.158890</td>\n",
       "      <td>-0.868940</td>\n",
       "    </tr>\n",
       "  </tbody>\n",
       "</table>\n",
       "</div>"
      ],
      "text/plain": [
       "   0         1         2\n",
       "0  1  1.388162  0.741196\n",
       "1  1  0.440812  1.417674\n",
       "2  1 -1.105101 -1.713237\n",
       "3  1  1.621268 -1.907850\n",
       "4  1 -1.703778  0.199010\n",
       "5  1 -0.388422  1.302016\n",
       "6  1 -0.723372 -0.614913\n",
       "7  1  0.667256 -0.365596\n",
       "8  1  0.807803 -0.929266\n",
       "9  1 -1.158890 -0.868940"
      ]
     },
     "execution_count": 181,
     "metadata": {},
     "output_type": "execute_result"
    }
   ],
   "source": [
    "generateX(10,2)"
   ]
  },
  {
   "cell_type": "markdown",
   "metadata": {},
   "source": [
    "### Function for Generating Betas\n",
    "\n",
    "The following function randomly generates the betas for the predictors. For now, these are drawn from a normal distribution with mean mu and standard deviation stdev - N(mu,stdev). We may want to look at other generating distributions, particularly ones where the data doesn't clump near the center like noncentral poisson or uniform. Initial investigations suggest the distribution shape doesn't make a difference - only the magnitude of the betas, but this is not yet conclusive.\n",
    "\n",
    "**Note: Random seed is turned off here, too**"
   ]
  },
  {
   "cell_type": "code",
   "execution_count": 182,
   "metadata": {},
   "outputs": [],
   "source": [
    "def generateRandomBeta(q, mu, stdev):\n",
    "    beta = {}\n",
    "    for j in range(q):\n",
    "        #random.seed(j)#seed for random number generator\n",
    "        beta[j] = np.random.normal(mu,stdev)\n",
    "        #beta[j] = np.random.poisson(stdev)-3 # Checking to see what happens when betas come from noncentral poisson\n",
    "        #beta[j] = np.random.uniform(mu,stdev)\n",
    "    \n",
    "    beta = pd.DataFrame(list(beta.items()))\n",
    "    beta = beta.drop([0],axis=1)\n",
    "    \n",
    "    return beta"
   ]
  },
  {
   "cell_type": "markdown",
   "metadata": {},
   "source": [
    "### Function for Generating Response Variable\n",
    "\n",
    "After defining the sigmoid function, the next function generates the response variable depending on the link function used.\n",
    "\n",
    "**Note (Once again): Random seed is turned off here, too**"
   ]
  },
  {
   "cell_type": "code",
   "execution_count": 183,
   "metadata": {},
   "outputs": [],
   "source": [
    "def sigmoid(z):\n",
    "    return 1/(1+np.exp(-z))"
   ]
  },
  {
   "cell_type": "code",
   "execution_count": 184,
   "metadata": {},
   "outputs": [],
   "source": [
    "def generateResponseVariable(X, beta, dist):\n",
    "    \n",
    "    beta = np.squeeze(beta)\n",
    "    \n",
    "    if dist == 'bernoulli':\n",
    "        meanValues = sigmoid(X.dot(beta)) \n",
    "    elif dist == 'poisson':\n",
    "        meanValues = np.exp(X.dot(beta))\n",
    "    elif dist == 'exponential':\n",
    "        meanValues = 1/(X.dot(beta))\n",
    "    else:\n",
    "        print('please spell check distribution name, all lowercase: bernoulli, poisson or exponential')\n",
    "        \n",
    "    y = []\n",
    "    \n",
    "    #np.random.seed(123)\n",
    "    for eachMean in np.squeeze(meanValues.values):\n",
    "        if dist == 'bernoulli':\n",
    "            randomPrediction = np.random.binomial(1,eachMean)\n",
    "        elif dist == 'poisson':\n",
    "            randomPrediction = np.random.poisson(eachMean)\n",
    "        elif dist == 'exponential':\n",
    "            randomPrediction = np.random.exponential(eachMean)\n",
    "        y.append(randomPrediction)\n",
    "        #print(randomPrediction, eachMean)\n",
    "    \n",
    "    return meanValues, y"
   ]
  },
  {
   "cell_type": "markdown",
   "metadata": {},
   "source": [
    "### Putting it All Together: Function to Generate Everything (Using Previously Defined Functions)"
   ]
  },
  {
   "cell_type": "code",
   "execution_count": 185,
   "metadata": {},
   "outputs": [],
   "source": [
    "def generateData(dist, n, p, mu, stdev):\n",
    "    \n",
    "    # Generate Data\n",
    "    X = generateX(n=n, p=p)\n",
    "\n",
    "    # Generate Betas\n",
    "    q = X.shape[1]\n",
    "    beta = generateRandomBeta(q=q, mu=mu, stdev=stdev)\n",
    "\n",
    "    # Generate Response Variable (and associated means - what goes into the link fn)\n",
    "    means, y = generateResponseVariable(X=X, beta=beta, dist=dist) ### dist means pass distribution name as string\n",
    "    \n",
    "    # Make sure we return numpy arrays (easier to work with later and all names are useless here anyway)\n",
    "    beta = np.squeeze(np.array(beta))\n",
    "    X = np.array(X)\n",
    "    y = np.array(y)    \n",
    "    \n",
    "    return X, beta, y, means"
   ]
  },
  {
   "cell_type": "markdown",
   "metadata": {},
   "source": [
    "# Section 3: Logistic Regression Single Run Testbed"
   ]
  },
  {
   "cell_type": "code",
   "execution_count": 186,
   "metadata": {},
   "outputs": [],
   "source": [
    "# Hyperparameters\n",
    "n = 4000\n",
    "p = 200\n",
    "mu = 0\n",
    "stdev = 1.0\n",
    "\n",
    "# Generate Data\n",
    "X, b, y, means = generateData(dist = 'bernoulli', \n",
    "                              n = n, \n",
    "                              p = p, \n",
    "                              mu = mu,\n",
    "                              stdev = stdev)\n",
    "#print(b)"
   ]
  },
  {
   "cell_type": "code",
   "execution_count": 187,
   "metadata": {},
   "outputs": [
    {
     "name": "stdout",
     "output_type": "stream",
     "text": [
      "Optimization terminated successfully.\n",
      "         Current function value: 0.053700\n",
      "         Iterations 13\n"
     ]
    }
   ],
   "source": [
    "from statsmodels.discrete.discrete_model import Logit\n",
    " \n",
    "model = Logit(y, X)\n",
    " \n",
    "result = model.fit()\n",
    "\n",
    "#print(\"True Betas:      \"+str(np.squeeze(b)) )\n",
    "#print(\"Estimated Betas: \" + str(result.params) )\n",
    "#print(\"Standard Errors: \" + str(result.bse) )"
   ]
  },
  {
   "cell_type": "code",
   "execution_count": 188,
   "metadata": {},
   "outputs": [
    {
     "name": "stdout",
     "output_type": "stream",
     "text": [
      "Proportion of Betas within 2SE of True Value: 0.26865671641791045\n",
      "\n"
     ]
    }
   ],
   "source": [
    "tb = np.squeeze(b)\n",
    "est_betas_ub = result.params + 2*result.bse\n",
    "est_betas_lb = result.params - 2*result.bse\n",
    "captured = np.where((tb<=est_betas_ub)&(tb>=est_betas_lb),1,0)\n",
    "print(\"Proportion of Betas within 2SE of True Value: \"+str(sum(captured)/len(captured)))\n",
    "print(\"\")\n",
    "diff = (result.params - np.squeeze(b))"
   ]
  },
  {
   "cell_type": "code",
   "execution_count": null,
   "metadata": {},
   "outputs": [],
   "source": []
  },
  {
   "cell_type": "code",
   "execution_count": 189,
   "metadata": {},
   "outputs": [
    {
     "name": "stdout",
     "output_type": "stream",
     "text": [
      "Average |Diff| minus |SE|:                    0.5709458237540456\n"
     ]
    },
    {
     "data": {
      "image/png": "[encoded data removed]",
      "text/plain": [
       "<Figure size 432x288 with 1 Axes>"
      ]
     },
     "metadata": {
      "needs_background": "light"
     },
     "output_type": "display_data"
    }
   ],
   "source": [
    "# NOTE: DOUBLE CHECK RMSE IS CORRECT?\n",
    "#print(\"RMSE:                                         \"+str(np.sqrt(np.mean(diff*diff))))\n",
    "#print(\"Average Standard Error:                       \"+str(np.mean(result.bse)))\n",
    "print(\"Average |Diff| minus |SE|:                    \"+str(np.mean(abs(diff)-abs(result.bse))))\n",
    "plt.scatter(np.squeeze(b),result.params, label=\"Estimated Betas vs. True Betas\")\n",
    "plt.errorbar(np.squeeze(b),result.params,yerr=result.bse, fmt='o')\n",
    "plt.scatter(np.squeeze(b),np.squeeze(b), label=\"True Betas vs. True Betas\")\n",
    "#plt.ylim(-7.03,7.03)\n",
    "#plt.xlim(-7.03,7.03)\n",
    "plt.xlabel('True Beta Value')\n",
    "plt.ylabel('Beta Value')\n",
    "plt.title('Beta-Beta Plot\\nn='+str(n)+', p='+str(p)+', beta_mu='+str(mu)+', beta_stdev='+str(stdev)+'\\nProportion Captured: '+str(sum(captured)/len(captured)))\n",
    "plt.legend()\n",
    "plt.show()"
   ]
  },
  {
   "cell_type": "code",
   "execution_count": 14,
   "metadata": {},
   "outputs": [],
   "source": [
    "#plt.hist(result.params, bins=100)\n",
    "#plt.hist(b, bins=100)\n",
    "#plt.xlim(-5,5)\n",
    "#plt.hist(abs(result.params - np.squeeze(b)), bins=1000)\n",
    "#plt.xlim(0,3)\n",
    "#print(np.std(abs(result.params - np.squeeze(b))))\n",
    "#print(np.mean(result.bse))"
   ]
  },
  {
   "cell_type": "code",
   "execution_count": 15,
   "metadata": {},
   "outputs": [],
   "source": [
    "#plt.hist(result.bse, bins=1000)\n",
    "#plt.xlim(0,3)"
   ]
  },
  {
   "cell_type": "markdown",
   "metadata": {},
   "source": [
    "# Section 4: Running Multiple Iterations of Logistic Regression"
   ]
  },
  {
   "cell_type": "code",
   "execution_count": 151,
   "metadata": {},
   "outputs": [
    {
     "name": "stdout",
     "output_type": "stream",
     "text": [
      "Optimization terminated successfully.\n",
      "         Current function value: 0.054040\n",
      "         Iterations 12\n",
      "Optimization terminated successfully.\n",
      "         Current function value: 0.055944\n",
      "         Iterations 12\n",
      "Optimization terminated successfully.\n",
      "         Current function value: 0.062134\n",
      "         Iterations 12\n",
      "Optimization terminated successfully.\n",
      "         Current function value: 0.052384\n",
      "         Iterations 12\n",
      "Optimization terminated successfully.\n",
      "         Current function value: 0.057246\n",
      "         Iterations 12\n",
      "Optimization terminated successfully.\n",
      "         Current function value: 0.053692\n",
      "         Iterations 12\n",
      "Optimization terminated successfully.\n",
      "         Current function value: 0.058912\n",
      "         Iterations 12\n",
      "Optimization terminated successfully.\n",
      "         Current function value: 0.047435\n",
      "         Iterations 13\n",
      "Optimization terminated successfully.\n",
      "         Current function value: 0.055739\n",
      "         Iterations 12\n",
      "Optimization terminated successfully.\n",
      "         Current function value: 0.051608\n",
      "         Iterations 12\n"
     ]
    }
   ],
   "source": [
    "# Hyperparameters\n",
    "n = 20000\n",
    "p = 100\n",
    "mu = 2.0\n",
    "stdev = 1.00\n",
    "iterations = 10\n",
    "\n",
    "\n",
    "TrueBetas_list = []\n",
    "EstBetas_list = []\n",
    "SE_list = []\n",
    "\n",
    "for i in range(iterations):\n",
    "    # Generate Data\n",
    "    X, b, y, means = generateData(dist = 'bernoulli', \n",
    "                                  n = n, \n",
    "                                  p = p, \n",
    "                                  mu = mu,\n",
    "                                  stdev = stdev)\n",
    "    model = Logit(y, X)\n",
    "    result = model.fit()\n",
    "    \n",
    "    TrueBetas_list.append(b)\n",
    "    EstBetas_list.append(result.params)\n",
    "    SE_list.append(result.bse)\n",
    "    \n",
    "TrueBetas = np.reshape(np.array(TrueBetas_list), [-1])\n",
    "EstBetas = np.reshape(np.array(EstBetas_list), [-1])\n",
    "SE = np.reshape(np.array(SE_list), [-1])"
   ]
  },
  {
   "cell_type": "code",
   "execution_count": 152,
   "metadata": {},
   "outputs": [
    {
     "name": "stdout",
     "output_type": "stream",
     "text": [
      "Proportion of Betas within 2SE of True Value: 0.7970297029702971\n",
      "\n"
     ]
    }
   ],
   "source": [
    "est_betas_ub = EstBetas + 2*SE\n",
    "est_betas_lb = EstBetas - 2*SE\n",
    "captured = np.where((TrueBetas<=est_betas_ub)&(TrueBetas>=est_betas_lb),1,0)\n",
    "print(\"Proportion of Betas within 2SE of True Value: \"+str(sum(captured)/len(captured)))\n",
    "print(\"\")\n",
    "diff = (result.params - np.squeeze(b))\n",
    "\n",
    "# SD = 1.0, mu = 1.0, p=10, n=2000, iter=1000\n",
    "# Proportion of Betas within 2SE of True Value: 0.9539090909090909\n",
    "# Average Difference in Actual Error (Est - True) and Estimated SE:-0.0335425715776175\n",
    "# SD = 0.1, mu = 1.0, p=10, n=2000, iter=1000\n",
    "# Proportion of Betas within 2SE of True Value: 0.9504545454545454\n",
    "# Average Difference in Actual Error (Est - True) and Estimated SE:-0.022731206163924374\n",
    "# SD = 0.01, mu = 1.0, p=10, n=2000, iter=1000\n",
    "# Proportion of Betas within 2SE of True Value: 0.9553636363636364\n",
    "# Average Difference in Actual Error (Est - True) and Estimated SE:-0.011381506544946497\n",
    "# SD = 0.001, mu = 1.0, p=10, n=2000, iter=1000\n",
    "# Proportion of Betas within 2SE of True Value: 0.9537272727272728\n",
    "# Average Difference in Actual Error (Est - True) and Estimated SE:-0.03719485049255797\n",
    "# SD = 0.0001, mu = 1.0, p=10, n=2000, iter=1000\n",
    "#Proportion of Betas within 2SE of True Value: 0.9545454545454546\n",
    "#Average Difference in Actual Error (Est - True) and Estimated SE:-0.011800355859019583\n",
    "# SD = 0.00001, mu = 1.0, p=10, n=2000, iter=1000\n",
    "# Proportion of Betas within 2SE of True Value: 0.9553636363636364\n",
    "# Average Difference in Actual Error (Est - True) and Estimated SE:-0.03760475423173675\n",
    "# SD = 0.000001, mu = 1.0, p=10, n=2000, iter=1000\n",
    "# Proportion of Betas within 2SE of True Value: 0.9551818181818181\n",
    "# Average Difference in Actual Error (Est - True) and Estimated SE:-0.02348635864456682"
   ]
  },
  {
   "cell_type": "code",
   "execution_count": 153,
   "metadata": {},
   "outputs": [
    {
     "name": "stdout",
     "output_type": "stream",
     "text": [
      "Average Difference in Actual Error (Est - True) and Estimated SE:0.13937084195019508\n"
     ]
    },
    {
     "data": {
      "image/png": "[encoded data removed]",
      "text/plain": [
       "<Figure size 432x288 with 1 Axes>"
      ]
     },
     "metadata": {
      "needs_background": "light"
     },
     "output_type": "display_data"
    }
   ],
   "source": [
    "#print(\"RMSE:                                         \"+str(np.sqrt(np.mean(diff*diff))))\n",
    "#print(\"Average Standard Error:                       \"+str(np.mean(result.bse)))\n",
    "print(\"Average Difference in Actual Error (Est - True) and Estimated SE:\"+str(np.mean(abs(diff)-result.bse)))\n",
    "plt.scatter(TrueBetas, EstBetas, label=\"Estimated Betas vs. True Betas\")\n",
    "plt.errorbar(TrueBetas, EstBetas, yerr=SE, fmt='o')\n",
    "plt.scatter(TrueBetas, TrueBetas, label=\"True Betas vs. True Betas\")\n",
    "#plt.ylim(-7.03,7.03)\n",
    "#plt.xlim(-7.03,7.03)\n",
    "plt.xlabel('True Beta Value')\n",
    "plt.ylabel('Beta Value')\n",
    "plt.title('Beta-Beta Plot\\nn='+str(n)+', p='+str(p)+', beta_mu='+str(mu)+', beta_stdev='+str(stdev)+'\\nProportion Captured: '+str(sum(captured)/len(captured)))\n",
    "plt.legend()\n",
    "plt.show()"
   ]
  },
  {
   "cell_type": "markdown",
   "metadata": {},
   "source": [
    "# Section 5: Poisson Regression Single Run Testbed"
   ]
  },
  {
   "cell_type": "code",
   "execution_count": 649,
   "metadata": {},
   "outputs": [
    {
     "name": "stdout",
     "output_type": "stream",
     "text": [
      "17513.917540039907\n"
     ]
    }
   ],
   "source": [
    "# Hyperparameters\n",
    "n = 5000\n",
    "p = 1000\n",
    "mu = 10.0\n",
    "stdev = 1.0\n",
    "\n",
    "# Redefine to accomodate wider range of betas here\n",
    "def generateNormalVariables(n, p):\n",
    "\n",
    "    X = {} # initialize dictionary to hold values\n",
    "\n",
    "    for j in range(p):\n",
    "        #np.random.seed(seed = j)   #seed for distribution\n",
    "        #random.seed(j)   #seed for random number generator\n",
    "        X[j] = abs(np.random.normal(0, 0.0001, n))\n",
    "    return X\n",
    "\n",
    "# Generate Data\n",
    "X, b, y, means = generateData(dist = 'poisson', \n",
    "                              n = n, \n",
    "                              p = p, \n",
    "                              mu = mu,\n",
    "                              stdev = stdev)\n",
    "#print(b)\n",
    "print(np.mean(means))"
   ]
  },
  {
   "cell_type": "code",
   "execution_count": 650,
   "metadata": {},
   "outputs": [
    {
     "name": "stdout",
     "output_type": "stream",
     "text": [
      "Optimization terminated successfully.\n",
      "         Current function value: 6.204825\n",
      "         Iterations 4\n"
     ]
    }
   ],
   "source": [
    "from statsmodels.discrete.discrete_model import Poisson\n",
    "model = Poisson(y, X)\n",
    "result = model.fit()"
   ]
  },
  {
   "cell_type": "code",
   "execution_count": 651,
   "metadata": {},
   "outputs": [
    {
     "name": "stdout",
     "output_type": "stream",
     "text": [
      "Proportion of Betas within 2SE of True Value: 0.952047952047952\n",
      "\n"
     ]
    }
   ],
   "source": [
    "tb = np.squeeze(b)\n",
    "est_betas_ub = result.params + 2*result.bse\n",
    "est_betas_lb = result.params - 2*result.bse\n",
    "captured = np.where((tb<=est_betas_ub)&(tb>=est_betas_lb),1,0)\n",
    "print(\"Proportion of Betas within 2SE of True Value: \"+str(sum(captured)/len(captured)))\n",
    "print(\"\")\n",
    "diff = (result.params - np.squeeze(b))"
   ]
  },
  {
   "cell_type": "code",
   "execution_count": 652,
   "metadata": {},
   "outputs": [
    {
     "name": "stdout",
     "output_type": "stream",
     "text": [
      "RMSE:                                         1.999514221735472\n",
      "Average Standard Error:                       1.9796651609453673\n"
     ]
    },
    {
     "data": {
      "image/png": "[encoded data removed]",
      "text/plain": [
       "<Figure size 432x288 with 1 Axes>"
      ]
     },
     "metadata": {
      "needs_background": "light"
     },
     "output_type": "display_data"
    }
   ],
   "source": [
    "#b = np.exp(b)\n",
    "#result.params = np.exp(result.params)\n",
    "#result.bse = np.exp(result.bse)\n",
    "\n",
    "print(\"RMSE:                                         \"+str(np.sqrt(np.mean(diff*diff))))\n",
    "print(\"Average Standard Error:                       \"+str(np.mean(result.bse)))\n",
    "plt.scatter(np.squeeze(b),result.params, label=\"Estimated Betas vs. True Betas\")\n",
    "plt.errorbar(np.squeeze(b),result.params,yerr=result.bse, fmt='o')\n",
    "plt.scatter(np.squeeze(b),np.squeeze(b), label=\"True Betas vs. True Betas\")\n",
    "#plt.ylim(-7.03,7.03)\n",
    "#plt.xlim(-7.03,7.03)\n",
    "plt.xlabel('True Beta Value')\n",
    "plt.ylabel('Beta Value')\n",
    "plt.title('Beta-Beta Plot\\nn='+str(n)+', p='+str(p)+', beta_mu='+str(mu)+', beta_stdev='+str(stdev)+'\\nProportion Captured: '+str(sum(captured)/len(captured)))\n",
    "plt.legend()\n",
    "plt.show()"
   ]
  },
  {
   "cell_type": "code",
   "execution_count": null,
   "metadata": {},
   "outputs": [],
   "source": []
  },
  {
   "cell_type": "code",
   "execution_count": null,
   "metadata": {},
   "outputs": [],
   "source": []
  },
  {
   "cell_type": "code",
   "execution_count": null,
   "metadata": {},
   "outputs": [],
   "source": []
  },
  {
   "cell_type": "markdown",
   "metadata": {},
   "source": [
    "# Looking at Shafi's Stuff and Integrating It In"
   ]
  },
  {
   "cell_type": "code",
   "execution_count": 312,
   "metadata": {},
   "outputs": [
    {
     "name": "stdout",
     "output_type": "stream",
     "text": [
      "m: 0 s: 0.01\n",
      "Optimization terminated successfully.\n",
      "         Current function value: 0.671385\n",
      "         Iterations 4\n",
      "m: 0 s: 0.1\n",
      "Optimization terminated successfully.\n",
      "         Current function value: 0.581529\n",
      "         Iterations 5\n",
      "m: 0 s: 0.5\n",
      "Optimization terminated successfully.\n",
      "         Current function value: 0.234897\n",
      "         Iterations 8\n",
      "m: 0 s: 1.0\n",
      "Optimization terminated successfully.\n",
      "         Current function value: 0.114650\n",
      "         Iterations 11\n",
      "m: 0 s: 1.5\n",
      "Optimization terminated successfully.\n",
      "         Current function value: 0.081137\n",
      "         Iterations 11\n",
      "m: 0 s: 2.0\n",
      "Optimization terminated successfully.\n",
      "         Current function value: 0.043670\n",
      "         Iterations 13\n",
      "m: 0.5 s: 0.01\n",
      "Optimization terminated successfully.\n",
      "         Current function value: 0.210307\n",
      "         Iterations 9\n",
      "m: 0.5 s: 0.1\n",
      "Optimization terminated successfully.\n",
      "         Current function value: 0.233315\n",
      "         Iterations 8\n",
      "m: 0.5 s: 0.5\n",
      "Optimization terminated successfully.\n",
      "         Current function value: 0.151013\n",
      "         Iterations 10\n",
      "m: 0.5 s: 1.0\n",
      "Optimization terminated successfully.\n",
      "         Current function value: 0.100267\n",
      "         Iterations 11\n",
      "m: 0.5 s: 1.5\n",
      "Optimization terminated successfully.\n",
      "         Current function value: 0.053261\n",
      "         Iterations 13\n",
      "m: 0.5 s: 2.0\n",
      "Optimization terminated successfully.\n",
      "         Current function value: 0.047668\n",
      "         Iterations 13\n",
      "m: 1.0 s: 0.01\n",
      "Optimization terminated successfully.\n",
      "         Current function value: 0.109876\n",
      "         Iterations 11\n",
      "m: 1.0 s: 0.1\n",
      "Optimization terminated successfully.\n",
      "         Current function value: 0.091836\n",
      "         Iterations 11\n",
      "m: 1.0 s: 0.5\n",
      "Optimization terminated successfully.\n",
      "         Current function value: 0.104584\n",
      "         Iterations 11\n",
      "m: 1.0 s: 1.0\n",
      "Optimization terminated successfully.\n",
      "         Current function value: 0.084042\n",
      "         Iterations 11\n",
      "m: 1.0 s: 1.5\n",
      "Optimization terminated successfully.\n",
      "         Current function value: 0.050075\n",
      "         Iterations 13\n",
      "m: 1.0 s: 2.0\n",
      "Optimization terminated successfully.\n",
      "         Current function value: 0.044496\n",
      "         Iterations 13\n"
     ]
    }
   ],
   "source": [
    "n = 3000\n",
    "p = 100 \n",
    "#mu = 0\n",
    "#stdev = 2\n",
    "#iterations = 10\n",
    "\n",
    "from statsmodels.discrete.discrete_model import Logit\n",
    "#Inputs: dist,n,normalVar=0,countVar=0,catVar=0, b_mu = 0, b_sd = 1.0\n",
    "b_mu = [0,0.5,1.0]\n",
    "b_sd = [0.01,0.1,0.5,1.0,1.5,2.0] #Make sure they are floats\n",
    "results = {}\n",
    "flags = {}\n",
    "flags['std']=b_sd\n",
    "for m in b_mu:\n",
    "    tempList = []\n",
    "    tempFlags = []\n",
    "    for s in b_sd:\n",
    "        X, b, y, means = generateData(dist = 'bernoulli', n = n, p = p, \n",
    "                                      mu = m, stdev = s)\n",
    "        model = Logit(y, X)\n",
    "        print('m:',m,'s:',s)\n",
    "        try:\n",
    "            fittedModel = model.fit(method='newton',maxiter=100) # The d\n",
    "            tempList.append(s)\n",
    "            # tempList.append(np.squeeze(b))\n",
    "            # tempList.append(np.squeeze(fittedModel.params))\n",
    "            tempList.append(fittedModel.bse)\n",
    "            tempFlags.append('converged')\n",
    "        except Exception as exception:\n",
    "            print(type(exception).__name__)\n",
    "            tempFlags.append(0)\n",
    "            # tempList.append(s)\n",
    "            # tempList.append([])\n",
    "            # tempList.append([])\n",
    "            # tempList.append('placeHolder')\n",
    "        # tempArr = np.array(tempList).reshape(len(b_sd),4)\n",
    "    results[m] = tempList\n",
    "    flags[m] = tempFlags\n",
    "# print(\"True Betas: \"+str(np.squeeze(b)) )\n",
    "# print(\"Estimated Betas: \" + str(result.params) )\n",
    "# print(\"Standard Errors: \" + str(result.bse) )"
   ]
  },
  {
   "cell_type": "code",
   "execution_count": 313,
   "metadata": {},
   "outputs": [
    {
     "data": {
      "text/html": [
       "<div>\n",
       "<style scoped>\n",
       "    .dataframe tbody tr th:only-of-type {\n",
       "        vertical-align: middle;\n",
       "    }\n",
       "\n",
       "    .dataframe tbody tr th {\n",
       "        vertical-align: top;\n",
       "    }\n",
       "\n",
       "    .dataframe thead th {\n",
       "        text-align: right;\n",
       "    }\n",
       "</style>\n",
       "<table border=\"1\" class=\"dataframe\">\n",
       "  <thead>\n",
       "    <tr style=\"text-align: right;\">\n",
       "      <th></th>\n",
       "      <th>std</th>\n",
       "      <th>0</th>\n",
       "      <th>0.5</th>\n",
       "      <th>1.0</th>\n",
       "    </tr>\n",
       "  </thead>\n",
       "  <tbody>\n",
       "    <tr>\n",
       "      <td>0</td>\n",
       "      <td>0.01</td>\n",
       "      <td>converged</td>\n",
       "      <td>converged</td>\n",
       "      <td>converged</td>\n",
       "    </tr>\n",
       "    <tr>\n",
       "      <td>1</td>\n",
       "      <td>0.10</td>\n",
       "      <td>converged</td>\n",
       "      <td>converged</td>\n",
       "      <td>converged</td>\n",
       "    </tr>\n",
       "    <tr>\n",
       "      <td>2</td>\n",
       "      <td>0.50</td>\n",
       "      <td>converged</td>\n",
       "      <td>converged</td>\n",
       "      <td>converged</td>\n",
       "    </tr>\n",
       "    <tr>\n",
       "      <td>3</td>\n",
       "      <td>1.00</td>\n",
       "      <td>converged</td>\n",
       "      <td>converged</td>\n",
       "      <td>converged</td>\n",
       "    </tr>\n",
       "    <tr>\n",
       "      <td>4</td>\n",
       "      <td>1.50</td>\n",
       "      <td>converged</td>\n",
       "      <td>converged</td>\n",
       "      <td>converged</td>\n",
       "    </tr>\n",
       "    <tr>\n",
       "      <td>5</td>\n",
       "      <td>2.00</td>\n",
       "      <td>converged</td>\n",
       "      <td>converged</td>\n",
       "      <td>converged</td>\n",
       "    </tr>\n",
       "  </tbody>\n",
       "</table>\n",
       "</div>"
      ],
      "text/plain": [
       "    std          0        0.5        1.0\n",
       "0  0.01  converged  converged  converged\n",
       "1  0.10  converged  converged  converged\n",
       "2  0.50  converged  converged  converged\n",
       "3  1.00  converged  converged  converged\n",
       "4  1.50  converged  converged  converged\n",
       "5  2.00  converged  converged  converged"
      ]
     },
     "execution_count": 313,
     "metadata": {},
     "output_type": "execute_result"
    }
   ],
   "source": [
    "# This shows the combinations of mu and sigma for which the method conve\n",
    "pd.DataFrame.from_dict(flags)"
   ]
  },
  {
   "cell_type": "code",
   "execution_count": 314,
   "metadata": {},
   "outputs": [
    {
     "data": {
      "image/png": "[encoded data removed]",
      "text/plain": [
       "<Figure size 432x288 with 1 Axes>"
      ]
     },
     "metadata": {},
     "output_type": "display_data"
    },
    {
     "data": {
      "image/png": "[encoded data removed]",
      "text/plain": [
       "<Figure size 432x288 with 1 Axes>"
      ]
     },
     "metadata": {},
     "output_type": "display_data"
    },
    {
     "data": {
      "image/png": "[encoded data removed]",
      "text/plain": [
       "<Figure size 432x288 with 1 Axes>"
      ]
     },
     "metadata": {},
     "output_type": "display_data"
    }
   ],
   "source": [
    "#boxplots may be a good idea for this\n",
    "\n",
    "for k,v in results.items():\n",
    "    if v != []:\n",
    "        for i in range(len(v)):\n",
    "            if isinstance(v[i], float):\n",
    "                std = str(v[i])\n",
    "            else:\n",
    "                plt.plot(v[i],label = std)\n",
    "                plt.legend()\n",
    "    plt.title('beta_SE for mean:'+str(k)+' and different Std')\n",
    "    plt.show()"
   ]
  },
  {
   "cell_type": "code",
   "execution_count": 315,
   "metadata": {},
   "outputs": [],
   "source": [
    "#df = pd.DataFrame(np.repeat(1,p), columns=list('0'))\n",
    "#for k,v in results.items():\n",
    "#    if v != []:\n",
    "#        for i in range(len(v)):\n",
    "#            if isinstance(v[i], float):\n",
    "#                std = str(v[i])\n",
    "#            else:\n",
    "#                #plt.plot(v[i],label = std)\n",
    "#                #plt.legend()\n",
    "#                df = pd.concat([df, pd.DataFrame(v[i])],ignore_index=True,axis=1)\n",
    "#                \n",
    "#    #plt.title('beta_SE for mean:'+str(k)+' and different Std')\n",
    "#    #plt.show()\n",
    "#df = df.drop([0], axis=1)"
   ]
  },
  {
   "cell_type": "code",
   "execution_count": null,
   "metadata": {},
   "outputs": [],
   "source": []
  },
  {
   "cell_type": "markdown",
   "metadata": {},
   "source": [
    "### Trying to adapt Shafi's code to produce side-by-side boxplots\n",
    "\n",
    "What I'm thinking: each mean is a grouping, where each grouping contains a boxplot of SEs for each Stdev investigated"
   ]
  },
  {
   "cell_type": "code",
   "execution_count": 287,
   "metadata": {},
   "outputs": [
    {
     "data": {
      "text/html": [
       "<div>\n",
       "<style scoped>\n",
       "    .dataframe tbody tr th:only-of-type {\n",
       "        vertical-align: middle;\n",
       "    }\n",
       "\n",
       "    .dataframe tbody tr th {\n",
       "        vertical-align: top;\n",
       "    }\n",
       "\n",
       "    .dataframe thead th {\n",
       "        text-align: right;\n",
       "    }\n",
       "</style>\n",
       "<table border=\"1\" class=\"dataframe\">\n",
       "  <thead>\n",
       "    <tr style=\"text-align: right;\">\n",
       "      <th></th>\n",
       "      <th>A</th>\n",
       "      <th>B</th>\n",
       "      <th>C</th>\n",
       "      <th>D</th>\n",
       "      <th>E</th>\n",
       "    </tr>\n",
       "  </thead>\n",
       "  <tbody>\n",
       "    <tr>\n",
       "      <td>0</td>\n",
       "      <td>0.130254</td>\n",
       "      <td>0.126212</td>\n",
       "      <td>0.612280</td>\n",
       "      <td>0.293545</td>\n",
       "      <td>1</td>\n",
       "    </tr>\n",
       "    <tr>\n",
       "      <td>1</td>\n",
       "      <td>0.506825</td>\n",
       "      <td>0.909498</td>\n",
       "      <td>0.559581</td>\n",
       "      <td>0.748351</td>\n",
       "      <td>2</td>\n",
       "    </tr>\n",
       "    <tr>\n",
       "      <td>2</td>\n",
       "      <td>0.114141</td>\n",
       "      <td>0.965449</td>\n",
       "      <td>0.551809</td>\n",
       "      <td>0.390809</td>\n",
       "      <td>3</td>\n",
       "    </tr>\n",
       "    <tr>\n",
       "      <td>3</td>\n",
       "      <td>0.113929</td>\n",
       "      <td>0.106284</td>\n",
       "      <td>0.614462</td>\n",
       "      <td>0.770106</td>\n",
       "      <td>1</td>\n",
       "    </tr>\n",
       "    <tr>\n",
       "      <td>4</td>\n",
       "      <td>0.694342</td>\n",
       "      <td>0.166036</td>\n",
       "      <td>0.449308</td>\n",
       "      <td>0.938575</td>\n",
       "      <td>1</td>\n",
       "    </tr>\n",
       "  </tbody>\n",
       "</table>\n",
       "</div>"
      ],
      "text/plain": [
       "          A         B         C         D  E\n",
       "0  0.130254  0.126212  0.612280  0.293545  1\n",
       "1  0.506825  0.909498  0.559581  0.748351  2\n",
       "2  0.114141  0.965449  0.551809  0.390809  3\n",
       "3  0.113929  0.106284  0.614462  0.770106  1\n",
       "4  0.694342  0.166036  0.449308  0.938575  1"
      ]
     },
     "execution_count": 287,
     "metadata": {},
     "output_type": "execute_result"
    }
   ],
   "source": [
    "import numpy\n",
    "import pandas\n",
    "from matplotlib import pyplot\n",
    "import seaborn\n",
    "seaborn.set(style=\"ticks\")\n",
    "\n",
    "# Data\n",
    "df = pandas.DataFrame(numpy.random.rand(10,4), columns=list('ABCD'))\n",
    "df['E'] = [1, 2, 3, 1, 1, 4, 3, 2, 3, 1]\n",
    "df.head()"
   ]
  },
  {
   "cell_type": "code",
   "execution_count": null,
   "metadata": {},
   "outputs": [],
   "source": []
  },
  {
   "cell_type": "code",
   "execution_count": 288,
   "metadata": {},
   "outputs": [
    {
     "name": "stderr",
     "output_type": "stream",
     "text": [
      "C:\\Users\\jwb22\\AppData\\Local\\Continuum\\anaconda3\\lib\\site-packages\\pandas\\plotting\\_matplotlib\\boxplot.py:355: UserWarning: When passing multiple axes, sharex and sharey are ignored. These settings must be specified when creating axes\n",
      "  **kwds\n"
     ]
    },
    {
     "data": {
      "text/plain": [
       "A         AxesSubplot(0.1,0.15;0.173913x0.75)\n",
       "B    AxesSubplot(0.308696,0.15;0.173913x0.75)\n",
       "C    AxesSubplot(0.517391,0.15;0.173913x0.75)\n",
       "D    AxesSubplot(0.726087,0.15;0.173913x0.75)\n",
       "dtype: object"
      ]
     },
     "execution_count": 288,
     "metadata": {},
     "output_type": "execute_result"
    },
    {
     "data": {
      "image/png": "[encoded data removed]",
      "text/plain": [
       "<Figure size 864x360 with 4 Axes>"
      ]
     },
     "metadata": {},
     "output_type": "display_data"
    }
   ],
   "source": [
    "fig, axes = pyplot.subplots(ncols=4, figsize=(12, 5), sharey=True)\n",
    "df.query(\"E in [1, 2]\").boxplot(by='E', return_type='axes', ax=axes)"
   ]
  },
  {
   "cell_type": "code",
   "execution_count": 289,
   "metadata": {},
   "outputs": [
    {
     "data": {
      "image/png": "[encoded data removed]",
      "text/plain": [
       "<Figure size 432x288 with 1 Axes>"
      ]
     },
     "metadata": {},
     "output_type": "display_data"
    }
   ],
   "source": [
    "ax = (\n",
    "    df.set_index('E', append=True)  # set E as part of the index\n",
    "      .stack()                      # pull A - D into rows \n",
    "      .to_frame()                   # convert to a dataframe\n",
    "      .reset_index()                # make the index into reg. columns\n",
    "      .rename(columns={'level_2': 'quantity', 0: 'value'})  # rename columns\n",
    "      .drop('level_0', axis='columns')   # drop junk columns\n",
    "      .pipe((seaborn.boxplot, 'data'), x='quantity', y='value', hue='E', hue_order=[1, 2])  \n",
    ")\n",
    "seaborn.despine(trim=True)"
   ]
  },
  {
   "cell_type": "markdown",
   "metadata": {},
   "source": [
    "# Working out NR Optimization for Bernoulli"
   ]
  },
  {
   "cell_type": "code",
   "execution_count": 161,
   "metadata": {},
   "outputs": [],
   "source": [
    "def Bernoulli_LL_Derivatives(betas, X, y):\n",
    "    # NOTE: assumes betas, X, and y are all numpy arrays\n",
    "    # Need betas to be 1-D vector; shape (k,) not (k,1)\n",
    "    betas = np.squeeze(betas)\n",
    "    \n",
    "    # Gradient calculation\n",
    "    grad = np.matmul(X.T, y) - np.matmul(X.T, sigmoid(np.matmul(X,betas)))\n",
    "    \n",
    "    # PREVIOUS HESSIAN CODE - IGNORE (KEPT B/C STRUCTURE MAY STILL BE USEFUL IDK...)\n",
    "    # Hessian calculation (not sure how to vectorize this one. If anyone knows how Python does this\n",
    "    # for covariance matrix calculations, I think we could code butcher it to work here)\n",
    "    #hess = []\n",
    "    #for i in range(len(b)):\n",
    "    #    hess_row = []\n",
    "    #    for j in range(len(b)):\n",
    "    #        xixj = np.matmul(X[:,i].T, X[:,j])\n",
    "    #        other = sigmoid(np.squeeze(np.matmul(X,betas)))*sigmoid(-np.squeeze(np.matmul(X,betas)))\n",
    "    #        hess_row.append(-np.sum(xixj*other))\n",
    "    #    hess.append(hess_row)\n",
    "    #hess = np.array(hess) # convert to numpy array\n",
    "    \n",
    "    # THE FOLLOWING WORKS, BUT MAKING IMPROVED VERSION BELOW BY REMOVING THE INNER OBSERVATION LOOP\n",
    "    ## Hessian calculation\n",
    "    #hess = []\n",
    "    #for i in range(len(b)):\n",
    "    #    hess_row = []\n",
    "    #    for j in range(len(b)):\n",
    "    #        cell_value = 0\n",
    "    #        for obs in range(X.shape[0]):\n",
    "    #            xixj = X[obs,i] * X[obs,j]\n",
    "    #            #print(xixj)\n",
    "    #            other = (sigmoid(np.matmul(X[obs,:],betas)) * sigmoid(-np.matmul(X[obs,:],betas)))\n",
    "    #            #print(other)\n",
    "    #            value = -1 * xixj * other\n",
    "    #            cell_value += value\n",
    "    #        hess_row.append(cell_value)\n",
    "    #    hess.append(hess_row)\n",
    "    #hess = np.array(hess) # convert to numpy array\n",
    "    \n",
    "    # Hessian calculation\n",
    "    hess = []\n",
    "    for i in range(len(betas)):\n",
    "        hess_row = []\n",
    "        for j in range(len(betas)):\n",
    "            xixj = X[:,i] * X[:,j] # shape = (n,)\n",
    "            other = (sigmoid(np.matmul(X,betas)) * sigmoid(-np.matmul(X,betas))) # shape = (n,)\n",
    "            cell_value = -1 * np.matmul(xixj.T, other)\n",
    "            hess_row.append(cell_value)\n",
    "        hess.append(hess_row)\n",
    "    hess = np.array(hess) # convert to numpy array\n",
    "    \n",
    "    \n",
    "    return grad, hess"
   ]
  },
  {
   "cell_type": "code",
   "execution_count": 162,
   "metadata": {},
   "outputs": [],
   "source": [
    "def Bernoulli_NR_UpdateBetas(betas, X, y, grad, hess):\n",
    "    new_betas = np.squeeze(betas) - np.matmul(np.linalg.pinv(hess), grad)\n",
    "    return new_betas"
   ]
  },
  {
   "cell_type": "code",
   "execution_count": 163,
   "metadata": {},
   "outputs": [],
   "source": [
    "def Bernoulli_NR_Optimize(initial_betas, X, y, threshold = 0.00000001, max_counter = 1000):\n",
    "    \n",
    "    # Initialize new_betas\n",
    "    old_betas = np.squeeze(initial_betas)\n",
    "    \n",
    "    # Repeat until max difference between old_betas and new_betas is less than threshold (or until max_counter is exceeded)\n",
    "    max_diff = np.inf\n",
    "    counter = 0\n",
    "    while abs(max_diff) > threshold:\n",
    "        \n",
    "        # Break loop if counter exceeds maximum number of allowed iterations\n",
    "        if counter > max_counter:\n",
    "            break\n",
    "            \n",
    "        # Update Step\n",
    "        grad, hess = Bernoulli_LL_Derivatives(old_betas, X, y)\n",
    "        print(np.matmul(np.linalg.pinv(hess), grad))\n",
    "        new_betas = Bernoulli_NR_UpdateBetas(old_betas, X, y, grad, hess)\n",
    "        #print(old_betas)\n",
    "        #print(new_betas)\n",
    "\n",
    "        # Update Control Stuff\n",
    "        max_diff = np.max(new_betas - old_betas)\n",
    "        print(max_diff)\n",
    "        print(\" \")\n",
    "        counter += 1\n",
    "\n",
    "        # Update old_betas for next iteration\n",
    "        old_betas = new_betas\n",
    "            \n",
    "    return new_betas, max_diff, counter"
   ]
  },
  {
   "cell_type": "code",
   "execution_count": 164,
   "metadata": {},
   "outputs": [
    {
     "name": "stdout",
     "output_type": "stream",
     "text": [
      "[-0.01541996  0.13682028  0.00839117 -0.08155363 -0.03374806  0.01334179\n",
      "  0.12626446 -0.11209601  0.11171778 -0.04006511 -0.04973438]\n",
      "0.11209600927272993\n",
      " \n",
      "[-2.51867008e-04  2.35966622e-03 -2.34978011e-05 -1.45079330e-03\n",
      " -5.92926076e-04  6.01588631e-05  2.33164728e-03 -2.08552138e-03\n",
      "  2.06328201e-03 -5.77198759e-04 -8.89229006e-04]\n",
      "0.00208552138318599\n",
      " \n",
      "[-2.10566341e-07  2.09629926e-06 -1.28624516e-07 -1.31047372e-06\n",
      " -5.28871684e-07 -4.38883829e-08  2.16591142e-06 -1.93641040e-06\n",
      "  1.92099519e-06 -4.51027066e-07 -8.10360465e-07]\n",
      "1.936410404149158e-06\n",
      " \n",
      "[-1.65061814e-13  1.74288641e-12 -1.75464115e-13 -1.10081301e-12\n",
      " -4.40020349e-13 -9.10326702e-14  1.85753497e-12 -1.65328331e-12\n",
      "  1.65205145e-12 -3.43074069e-13 -6.84794099e-13]\n",
      "1.6532886171205519e-12\n",
      " \n"
     ]
    }
   ],
   "source": [
    "# Testing using true betas or all 0's to initialize (comment one or the other out)\n",
    "new_b, d, c = Bernoulli_NR_Optimize(np.repeat(0,len(b)), X, y)\n",
    "#new_b, d, c = Bernoulli_NR_Optimize(b, X, y)"
   ]
  },
  {
   "cell_type": "code",
   "execution_count": 165,
   "metadata": {},
   "outputs": [
    {
     "name": "stdout",
     "output_type": "stream",
     "text": [
      "Estimated Betas: [ 0.01567203 -0.13918204 -0.00836755  0.08300573  0.03434152 -0.01340191\n",
      " -0.12859827  0.11418347 -0.11378298  0.04064276  0.05062442]\n",
      "True Betas:      [ 0.0300944  -0.16465317  0.04377478  0.04325424  0.09166025 -0.08211884\n",
      " -0.16797031  0.05720021 -0.14090052  0.02185593  0.03698996]\n"
     ]
    }
   ],
   "source": [
    "# Seems to be converging but performing rather poorly...\n",
    "#print(new_b.dot(np.squeeze(b))/(new_b.dot(new_b)))\n",
    "print(\"Estimated Betas: \" + str(new_b))\n",
    "print(\"True Betas:      \" + str(np.squeeze(b)))"
   ]
  },
  {
   "cell_type": "markdown",
   "metadata": {},
   "source": [
    "# Working out SGD Optimization for Bernoulli"
   ]
  },
  {
   "cell_type": "code",
   "execution_count": 166,
   "metadata": {},
   "outputs": [],
   "source": [
    "def Bernoulli_LL_Gradient(betas, X, y):\n",
    "    # NOTE: assumes betas, X, and y are all numpy arrays\n",
    "    # Need betas to be 1-D vector; shape (k,) not (k,1)\n",
    "    betas = np.squeeze(betas)\n",
    "    \n",
    "    # Gradient calculation\n",
    "    grad = np.matmul(X.T, y) - np.matmul(X.T, sigmoid(np.matmul(X,betas)))\n",
    "    \n",
    "    return grad"
   ]
  },
  {
   "cell_type": "code",
   "execution_count": 167,
   "metadata": {},
   "outputs": [],
   "source": [
    "def Bernoulli_SGD_UpdateBetas(betas, X, y, grad, step_size):\n",
    "    new_betas = np.squeeze(betas) + step_size * grad \n",
    "    # I think I dropped a negative sign somewhere b/c this + should be a - (I think), but if the sign is flipped,\n",
    "    # the optimizer does not converge\n",
    "    return new_betas"
   ]
  },
  {
   "cell_type": "code",
   "execution_count": 168,
   "metadata": {},
   "outputs": [],
   "source": [
    "def Bernoulli_SGD_Optimize(initial_betas, X, y, step_size, threshold = 0.00000001, max_counter = 10000):\n",
    "    \n",
    "    # Initialize new_betas\n",
    "    old_betas = np.squeeze(initial_betas)\n",
    "    \n",
    "    # Repeat until max difference between old_betas and new_betas is less than threshold (or until max_counter is exceeded)\n",
    "    max_diff = np.inf\n",
    "    counter = 0\n",
    "    while abs(max_diff) > threshold:\n",
    "        \n",
    "        # Break loop if counter exceeds maximum number of allowed iterations\n",
    "        if counter > max_counter:\n",
    "            break\n",
    "            \n",
    "        # Update Step\n",
    "        grad = Bernoulli_LL_Gradient(old_betas, X, y)\n",
    "        print(grad)\n",
    "        new_betas = Bernoulli_SGD_UpdateBetas(old_betas, X, y, grad, step_size=step_size)\n",
    "        #print(old_betas)\n",
    "        #print(new_betas)\n",
    "\n",
    "        # Update Control Stuff\n",
    "        max_diff = np.max(new_betas - old_betas)\n",
    "        #print(max_diff)\n",
    "        #print(threshold)\n",
    "        #print(max_diff > threshold)\n",
    "        print(\" \")\n",
    "        counter += 1\n",
    "\n",
    "        # Update old_betas for next iteration\n",
    "        old_betas = new_betas\n",
    "            \n",
    "    return new_betas, max_diff, counter"
   ]
  },
  {
   "cell_type": "code",
   "execution_count": 175,
   "metadata": {},
   "outputs": [
    {
     "name": "stdout",
     "output_type": "stream",
     "text": [
      "[  8.         -51.05800625  -2.80550352  31.22674782  10.50829054\n",
      "  -6.10643801 -51.03170716  38.91874153 -40.78406952   7.11194365\n",
      "  21.88343096]\n",
      " \n",
      "[  5.3423145  -38.23048086  -2.14785964  23.19042407   8.38159081\n",
      "  -4.28980784 -37.22663565  29.89901074 -30.83148416   7.11633545\n",
      "  15.53400477]\n",
      " \n",
      "[  3.55178968 -28.70978451  -1.65324115  17.27240913   6.67625295\n",
      "  -3.00809323 -27.22862805  23.0091764  -23.35700146   6.71443258\n",
      "  11.03805281]\n",
      " \n",
      "[  2.35138761 -21.63543485  -1.27850548  12.91025698   5.31509036\n",
      "  -2.10515933 -19.98443517  17.74791106 -17.74267249   6.10404589\n",
      "   7.85738201]\n",
      " \n",
      "[  1.54871077 -16.35989891  -0.99301186   9.68341262   4.23044735\n",
      "  -1.46930367 -14.71839456  13.72087889 -13.51373602   5.4105713\n",
      "   5.60321219]\n",
      " \n",
      "[  1.01325051 -12.40898426  -0.77441052   7.28611312   3.36654331\n",
      "  -1.02172568 -10.87462503  10.62898562 -10.31707437   4.70943798\n",
      "   4.00158552]\n",
      " \n",
      "[ 0.65716483 -9.43779174 -0.60620722  5.4976098   2.67849588 -0.70700485\n",
      " -8.05755918  8.24784555 -7.89240556  4.04348891  2.86077335]\n",
      " \n",
      "[ 0.42140856 -7.19498536 -0.47615999  4.15822862  2.13051273 -0.48611902\n",
      " -5.98527679  6.40914586 -6.04770904  3.43491787  2.0464921 ]\n",
      " \n",
      "[ 0.26626155 -5.4964413  -0.37514634  3.15185598  1.69411891 -0.33152818\n",
      " -4.45587131  4.98611279 -4.64065429  2.89311537  1.46434758]\n",
      " \n",
      "[ 0.16497829 -4.20643296 -0.29634082  2.39352551  1.34665747 -0.22375306\n",
      " -3.32389829  3.88274287 -3.56513036  2.41974094  1.04769442]\n",
      " \n",
      "[ 0.09954585 -3.22430036 -0.23461309  1.82068393  1.07008408 -0.14899441\n",
      " -2.48398976  3.02594476 -2.74158222  2.01197777  0.74928242]\n",
      " \n",
      "[ 0.05784356 -2.47497886 -0.18608703  1.38702608  0.85001449 -0.09746952\n",
      " -1.85941923  2.35980615 -2.1100661   1.66460639  0.535492  ]\n",
      " \n",
      "[ 0.03173335 -1.90222165 -0.14781768  1.05811118  0.67497455 -0.06224383\n",
      " -1.3940666   1.84138466 -1.6252238   1.37131044  0.38233246]\n",
      " \n",
      "[ 0.01577066 -1.46370838 -0.11755452  0.80821867  0.53580843 -0.03840625\n",
      " -1.04672683  1.43759128 -1.25261374  1.12548207  0.27264571]\n",
      " \n",
      "[ 0.00633132 -1.12748487 -0.0935676   0.61807391  0.42521002 -0.02248463\n",
      " -0.78704731  1.12286241 -0.96600928  0.92070099  0.19413986]\n",
      " \n",
      "[ 0.00101915 -0.86935144 -0.07451952  0.47319012  0.33735047 -0.01203028\n",
      " -0.59260716  0.87740705 -0.74539328  0.75100163  0.13799891]\n",
      " \n",
      "[-0.00173649 -0.67093381 -0.05937077  0.36265157  0.26758127 -0.00532196\n",
      " -0.44680459  0.68587777 -0.57545941  0.61100424  0.0978952 ]\n",
      " \n",
      "[-0.0029537  -0.5182496  -0.04730932  0.27821521  0.21219709 -0.00115483\n",
      " -0.33732063  0.53635714 -0.44448574  0.49596005  0.06928538]\n",
      " \n",
      "[-0.00328311 -0.40063783 -0.03769797  0.2136443   0.16824604  0.00131012\n",
      " -0.25499713  0.41958134 -0.34348407  0.40174424  0.04890705]\n",
      " \n",
      "[-0.00313285 -0.30995589 -0.03003473  0.16421197  0.13337791  0.00265347\n",
      " -0.19301417  0.32834292 -0.26555526  0.32481858  0.0344181 ]\n",
      " \n",
      "[-0.00275262 -0.2399751  -0.02392277  0.12633013  0.10572254  0.00327379\n",
      " -0.14628511  0.2570303  -0.20539894  0.26217832  0.02413785]\n",
      " \n",
      "[-0.00228988 -0.18592418 -0.01904748  0.09727125  0.0837927   0.00344211\n",
      " -0.11101057  0.20127169 -0.15893995  0.21129271  0.01686102]\n",
      " \n",
      "[-0.00182727 -0.14414359 -0.01515884  0.07495924  0.06640625  0.00334044\n",
      " -0.08434866  0.15765939 -0.12304302  0.17004475  0.01172404]\n",
      " \n",
      "[-0.0014071  -0.11182325 -0.01205779  0.05781191  0.05262405  0.00308915\n",
      " -0.06417089  0.12353588 -0.0952945   0.13667385  0.0081088 ]\n",
      " \n",
      "[-0.00104737 -0.08680297 -0.0095856   0.04462209  0.04170033  0.00276613\n",
      " -0.04888098  0.09682779 -0.0738353   0.10972304  0.00557344]\n",
      " \n",
      "[-0.00075206 -0.0674205  -0.00761556  0.0344677   0.03304315  0.00242041\n",
      " -0.03728029  0.07591684 -0.05723269  0.08799179  0.00380255]\n",
      " \n",
      "[-0.00051755 -0.05239552 -0.00604646  0.02664366  0.02618277  0.00208152\n",
      " -0.02846763  0.05953947 -0.044382    0.07049462  0.00257137]\n",
      " \n",
      "[-0.00033663 -0.040741   -0.00479741  0.02061032  0.0207466   0.00176609\n",
      " -0.02176456  0.04670874 -0.0344311   0.05642518  0.00172004]\n",
      " \n",
      "[-0.00020082 -0.03169533 -0.00380372  0.01595419  0.01643916  0.00148236\n",
      " -0.01665976  0.03665346 -0.02672237  0.04512567  0.00113508]\n",
      " \n",
      "[-0.00010171 -0.02467042 -0.00301372  0.01235817  0.0130262   0.00123325\n",
      " -0.01276734  0.02877086 -0.02074808  0.03606082  0.00073617]\n",
      " \n",
      "[-3.16419664e-05 -1.92117547e-02 -2.38608079e-03  9.57885168e-03\n",
      "  1.03219915e-02  1.01844041e-03 -9.79572938e-03  2.25896328e-02\n",
      " -1.61160229e-02  2.87961164e-02  4.66585259e-04]\n",
      " \n",
      "[ 1.59860651e-05 -1.49678411e-02 -1.88778474e-03  7.42921612e-03\n",
      "  8.17936818e-03  8.35795359e-04 -7.52435363e-03  1.77411154e-02\n",
      " -1.25231511e-02  2.29795444e-02  2.86411985e-04]\n",
      " \n",
      "[ 4.66747769e-05 -1.16666283e-02 -1.49246500e-03  5.76545416e-03\n",
      "  6.48169106e-03  6.82219660e-04 -5.78612758e-03  1.39368701e-02\n",
      " -9.73516670e-03  1.83264736e-02  1.67654613e-04]\n",
      " \n",
      "[ 6.48685757e-05 -9.09742455e-03 -1.17907150e-03  4.47688429e-03\n",
      "  5.13654008e-03  5.54258837e-04 -4.45433567e-03  1.09511363e-02\n",
      " -7.57086307e-03  1.46071482e-02  9.07624332e-05]\n",
      " \n",
      "[ 7.40762446e-05 -7.09694757e-03 -9.30810240e-04  3.47825178e-03\n",
      "  4.07068884e-03  4.48446817e-04 -3.43275742e-03  8.60715576e-03\n",
      " -5.89003234e-03  1.16363947e-02  4.21463907e-05]\n",
      " \n",
      "[ 7.70105544e-05 -5.53857672e-03 -7.34291491e-04  2.70383455e-03\n",
      "  3.22612166e-03  3.61509950e-04 -2.64823825e-03  6.76649241e-03\n",
      " -4.58414337e-03  9.26518183e-03  1.24134638e-05]\n",
      " \n",
      "[ 7.57279427e-05 -4.32406166e-03 -5.78847157e-04  2.10292839e-03\n",
      "  2.55687574e-03  2.90473646e-04 -2.04509168e-03  5.32068888e-03\n",
      " -3.56914947e-03  7.37372030e-03 -4.88676431e-06]\n",
      " \n",
      "[ 7.17568582e-05 -3.37712107e-03 -4.55983788e-04  1.63638554e-03\n",
      "  2.02653788e-03  2.32706734e-04 -1.58087624e-03  4.18474799e-03\n",
      " -2.77993727e-03  5.86583907e-03 -1.41497035e-05]\n",
      " \n",
      "[ 6.62097059e-05 -2.63849699e-03 -3.58944399e-04  1.27395841e-03\n",
      "  1.60626055e-03  1.85927358e-04 -1.22320581e-03  3.29203752e-03\n",
      " -2.16604036e-03  4.66441200e-03 -1.83425197e-05]\n",
      " \n",
      "[ 5.98770293e-05 -2.06213072e-03 -2.82357617e-04  9.92259405e-04\n",
      "  1.27318988e-03  1.48186333e-04 -9.47337366e-04  2.59030623e-03\n",
      " -1.68832809e-03  3.70764798e-03 -1.94452937e-05]\n",
      " \n",
      "[ 5.33046323e-05 -1.61220407e-03 -2.21956893e-04  7.73192509e-04\n",
      "  1.00922003e-03  1.17838463e-04 -7.34344666e-04  2.03856785e-03\n",
      " -1.31644665e-03  2.94608721e-03 -1.87604027e-05]\n",
      " \n",
      "[ 4.68553856e-05 -1.26084847e-03 -1.74355937e-04  6.02746625e-04\n",
      "  8.00006450e-04  9.35085437e-05 -5.69733652e-04  1.60466302e-03\n",
      " -1.02684072e-03  2.34017384e-03 -1.71285762e-05]\n",
      " \n",
      "[ 4.07578564e-05 -9.86370014e-04 -1.36869237e-04  4.70066366e-04\n",
      "  6.34184154e-04  7.40562504e-05 -4.42391588e-04  1.26335106e-03\n",
      " -8.01223155e-04  1.85829746e-03 -1.50790476e-05]\n",
      " \n",
      "[ 3.51439402e-05 -7.71873500e-04 -1.07368720e-04  3.66735987e-04\n",
      "  5.02748506e-04  5.85423926e-05 -3.43788452e-04  9.94815959e-04\n",
      " -6.25390998e-04  1.47521549e-03 -1.29333128e-05]\n",
      " \n",
      "[ 3.00775519e-05 -6.04194974e-04 -8.41693761e-05  2.86227119e-04\n",
      "  3.98564718e-04  4.61978905e-05 -2.67369302e-04  7.83496285e-04\n",
      " -4.88308799e-04  1.17078387e-03 -1.08763564e-05]\n",
      " \n",
      "[ 2.55761579e-05 -4.73073230e-04 -6.59380554e-05  2.23472499e-04\n",
      "  3.15979330e-04  3.63961004e-05 -2.08091390e-04  6.17168439e-04\n",
      " -3.81398763e-04  9.28937306e-04 -9.00515520e-06]\n",
      " \n",
      "[ 2.16266944e-05 -3.70506368e-04 -5.16208102e-05  1.74536726e-04\n",
      "  2.50512448e-04  2.86286604e-05 -1.62071107e-04  4.86228234e-04\n",
      " -2.97990753e-04  7.36870798e-04 -7.36139389e-06]\n",
      " \n",
      "[ 1.81971327e-05 -2.90251808e-04 -4.03850621e-05  1.36361759e-04\n",
      "  1.98613967e-04  2.24847509e-05 -1.26314377e-04  3.83127681e-04\n",
      " -2.32895992e-04  5.84383511e-04 -5.95327040e-06]\n",
      " \n",
      "[ 1.52447229e-05 -2.27437573e-04 -3.15736039e-05  1.06570061e-04\n",
      "  1.57470463e-04  1.76335182e-05 -9.85105315e-05  3.01933322e-04\n",
      " -1.82076490e-04  4.63353230e-04 -4.76981293e-06]\n",
      " \n",
      "[ 1.27217379e-05 -1.78259932e-04 -2.46680491e-05  8.33122213e-05\n",
      "  1.24852217e-04  1.38093307e-05 -7.68745312e-05  2.37979777e-04\n",
      " -1.42388613e-04  3.67315827e-04 -3.79009935e-06]\n",
      " \n",
      "[ 1.05793517e-05 -1.39748087e-04 -1.92598111e-05  6.51489393e-05\n",
      "  9.89920334e-05  1.07995167e-05 -6.00260503e-05  1.87597899e-04\n",
      " -1.11384065e-04  2.91129023e-04 -2.98903904e-06]\n",
      " \n",
      "[ 8.77016259e-06 -1.09580965e-04 -1.50270821e-05  5.09595498e-05\n",
      "  7.84892292e-05  8.43423933e-06 -4.68967087e-05  1.47901401e-04\n",
      " -8.71553723e-05  2.30703746e-04 -2.34086481e-06]\n",
      " \n",
      "[ 7.24973347e-06 -8.59445071e-05 -1.17165847e-05  3.98710880e-05\n",
      "  6.22335722e-05  6.57818577e-06 -3.66588163e-05  1.16619338e-04\n",
      " -6.82158744e-05  1.82789661e-04 -1.82112223e-06]\n",
      " \n",
      "[ 5.97743940e-06 -6.74204501e-05 -9.12912037e-06  3.12032436e-05\n",
      "  4.93450139e-05  5.12378226e-06 -2.86705822e-05  9.19645555e-05\n",
      " -5.34064640e-05  1.44804052e-04 -1.40769278e-06]\n",
      " \n",
      "[ 4.91683920e-06 -5.28996231e-05 -7.10813312e-06  2.44256219e-05\n",
      "  3.91259374e-05  3.98567915e-06 -2.24339357e-05  7.25303426e-05\n",
      " -4.18230981e-05  1.14695374e-04 -1.08121164e-06]\n",
      " \n",
      "[ 4.03572676e-06 -4.15143194e-05 -5.53066651e-06  1.91245414e-05\n",
      "  3.10233186e-05  3.09628648e-06 -1.75620245e-05  5.72092348e-05\n",
      " -3.27604241e-05  9.08345228e-05 -8.25120992e-07]\n",
      " \n",
      "[ 3.30597413e-06 -3.25855310e-05 -4.30021946e-06  1.49772269e-05\n",
      "  2.45987410e-05  2.40217295e-06 -1.37541413e-05  4.51291961e-05\n",
      " -2.56679234e-05  7.19282247e-05 -6.25516662e-07]\n",
      " \n",
      "[ 2.70326086e-06 -2.55817615e-05 -3.34110572e-06  1.17317401e-05\n",
      "  1.95046329e-05  1.86117041e-06 -1.07763630e-05  3.56034489e-05\n",
      " -2.01157789e-05  5.69500891e-05 -4.70889113e-07]\n",
      " \n",
      "[ 2.20672700e-06 -2.00868662e-05 -2.59400465e-06  9.19136345e-06\n",
      "  1.54654347e-05  1.44005225e-06 -8.44658594e-06  2.80910262e-05\n",
      " -1.57683012e-05  4.50857436e-05 -3.51822727e-07]\n",
      " \n",
      "[ 1.79860808e-06 -1.57749306e-05 -2.01245366e-06  7.20244492e-06\n",
      "  1.22626731e-05  1.11267712e-06 -6.62294663e-06  2.21657444e-05\n",
      " -1.23632304e-05  3.56891938e-05 -2.60691088e-07]\n",
      " \n",
      "[ 1.46386628e-06 -1.23906414e-05 -1.56008571e-06  5.64493108e-06\n",
      "  9.72312975e-06  8.58507839e-07 -5.19485693e-06  1.74917967e-05\n",
      " -9.69561001e-06  2.82481262e-05 -1.91369651e-07]\n",
      " \n",
      "[ 1.18983871e-06 -9.73394307e-06 -1.20845465e-06  4.42499100e-06\n",
      "  7.70946452e-06  6.61432694e-07 -4.07605266e-06  1.38045473e-05\n",
      " -7.60521678e-06  2.23563311e-05 -1.38977313e-07]\n",
      " \n",
      "[ 9.65910999e-07 -7.64804109e-06 -9.35324842e-07  3.46926681e-06\n",
      "  6.11278149e-06  5.08828985e-07 -3.19920312e-06  1.08954185e-05\n",
      " -5.96675973e-06  1.76917918e-05 -9.96503644e-08]\n",
      " \n",
      "[ 7.83224095e-07 -6.01001854e-06 -7.23326906e-07  2.72039048e-06\n",
      "  4.84673657e-06  3.90820464e-07 -2.51172452e-06  8.59999248e-06\n",
      " -4.68223553e-06  1.39992826e-05 -7.03496568e-08]\n",
      " \n"
     ]
    }
   ],
   "source": [
    "# NOTE: STEP SIZE OF AROUND 1/N APPEARS TO WORK WELL\n",
    "# Testing using true betas or all 0's to initialize (comment one or the other out)\n",
    "new_b, d, c = Bernoulli_SGD_Optimize(np.repeat(0,len(b)), X, y, step_size=(1/n))\n",
    "#new_b, d, c = Bernoulli_SGD_Optimize(b, X, y, step_size=(1/100000))"
   ]
  },
  {
   "cell_type": "code",
   "execution_count": 176,
   "metadata": {},
   "outputs": [
    {
     "name": "stdout",
     "output_type": "stream",
     "text": [
      "Estimated Betas: [ 0.01567203 -0.13918203 -0.00836755  0.08300573  0.03434151 -0.01340191\n",
      " -0.12859826  0.11418345 -0.11378297  0.04064273  0.05062442]\n",
      "True Betas:      [ 0.0300944  -0.16465317  0.04377478  0.04325424  0.09166025 -0.08211884\n",
      " -0.16797031  0.05720021 -0.14090052  0.02185593  0.03698996]\n"
     ]
    }
   ],
   "source": [
    "# Seems to be converging but performing rather poorly...\n",
    "print(\"Estimated Betas: \" + str(new_b))\n",
    "print(\"True Betas:      \" + str(np.squeeze(b)))"
   ]
  },
  {
   "cell_type": "code",
   "execution_count": null,
   "metadata": {},
   "outputs": [],
   "source": []
  },
  {
   "cell_type": "markdown",
   "metadata": {},
   "source": [
    "# Extra Stuff..."
   ]
  },
  {
   "cell_type": "code",
   "execution_count": null,
   "metadata": {},
   "outputs": [],
   "source": [
    "### Look at the poisson responses\n",
    "### The dispersion is too high :(\n",
    "### One reason that the X's and beta's need careful consideration\n",
    "generateData('poisson')"
   ]
  },
  {
   "cell_type": "code",
   "execution_count": 17,
   "metadata": {},
   "outputs": [
    {
     "name": "stdout",
     "output_type": "stream",
     "text": [
      "Enter number of observations:5\n",
      "0.04475053649569026 0.05622813149145228\n"
     ]
    },
    {
     "ename": "ValueError",
     "evalue": "scale < 0",
     "output_type": "error",
     "traceback": [
      "\u001b[0;31m---------------------------------------------------------------------------\u001b[0m",
      "\u001b[0;31mValueError\u001b[0m                                Traceback (most recent call last)",
      "\u001b[0;32m<ipython-input-17-e6254ef19df2>\u001b[0m in \u001b[0;36m<module>\u001b[0;34m\u001b[0m\n\u001b[1;32m      1\u001b[0m \u001b[0;31m### All X.beta's have to be negative  :(\u001b[0m\u001b[0;34m\u001b[0m\u001b[0;34m\u001b[0m\u001b[0;34m\u001b[0m\u001b[0m\n\u001b[1;32m      2\u001b[0m \u001b[0;31m### One reason that the generation function of X and beta needs work\u001b[0m\u001b[0;34m\u001b[0m\u001b[0;34m\u001b[0m\u001b[0;34m\u001b[0m\u001b[0m\n\u001b[0;32m----> 3\u001b[0;31m \u001b[0mgenerateData\u001b[0m\u001b[0;34m(\u001b[0m\u001b[0;34m'exponential'\u001b[0m\u001b[0;34m)\u001b[0m\u001b[0;34m\u001b[0m\u001b[0;34m\u001b[0m\u001b[0m\n\u001b[0m",
      "\u001b[0;32m<ipython-input-11-afd55a844d51>\u001b[0m in \u001b[0;36mgenerateData\u001b[0;34m(dist)\u001b[0m\n\u001b[1;32m      6\u001b[0m     \u001b[0mbeta\u001b[0m \u001b[0;34m=\u001b[0m \u001b[0mgenerateRandomBeta\u001b[0m\u001b[0;34m(\u001b[0m\u001b[0mp\u001b[0m\u001b[0;34m)\u001b[0m\u001b[0;34m\u001b[0m\u001b[0;34m\u001b[0m\u001b[0m\n\u001b[1;32m      7\u001b[0m \u001b[0;34m\u001b[0m\u001b[0m\n\u001b[0;32m----> 8\u001b[0;31m     \u001b[0my\u001b[0m \u001b[0;34m=\u001b[0m \u001b[0mgenerateResponseVariable\u001b[0m\u001b[0;34m(\u001b[0m\u001b[0mX\u001b[0m\u001b[0;34m,\u001b[0m \u001b[0mbeta\u001b[0m\u001b[0;34m,\u001b[0m \u001b[0mdist\u001b[0m\u001b[0;34m)\u001b[0m \u001b[0;31m### dist means pass distribution name as string\u001b[0m\u001b[0;34m\u001b[0m\u001b[0;34m\u001b[0m\u001b[0m\n\u001b[0m\u001b[1;32m      9\u001b[0m     \u001b[0;32mreturn\u001b[0m \u001b[0mX\u001b[0m\u001b[0;34m,\u001b[0m \u001b[0mbeta\u001b[0m\u001b[0;34m,\u001b[0m \u001b[0my\u001b[0m\u001b[0;34m\u001b[0m\u001b[0;34m\u001b[0m\u001b[0m\n",
      "\u001b[0;32m<ipython-input-8-14b0c17f63b6>\u001b[0m in \u001b[0;36mgenerateResponseVariable\u001b[0;34m(X, beta, dist)\u001b[0m\n\u001b[1;32m     24\u001b[0m             \u001b[0mrandomPrediction\u001b[0m \u001b[0;34m=\u001b[0m \u001b[0mnp\u001b[0m\u001b[0;34m.\u001b[0m\u001b[0mrandom\u001b[0m\u001b[0;34m.\u001b[0m\u001b[0mpoisson\u001b[0m\u001b[0;34m(\u001b[0m\u001b[0meachMean\u001b[0m\u001b[0;34m)\u001b[0m\u001b[0;34m\u001b[0m\u001b[0;34m\u001b[0m\u001b[0m\n\u001b[1;32m     25\u001b[0m         \u001b[0;32melif\u001b[0m \u001b[0mdist\u001b[0m \u001b[0;34m==\u001b[0m \u001b[0;34m'exponential'\u001b[0m\u001b[0;34m:\u001b[0m\u001b[0;34m\u001b[0m\u001b[0;34m\u001b[0m\u001b[0m\n\u001b[0;32m---> 26\u001b[0;31m             \u001b[0mrandomPrediction\u001b[0m \u001b[0;34m=\u001b[0m \u001b[0mnp\u001b[0m\u001b[0;34m.\u001b[0m\u001b[0mrandom\u001b[0m\u001b[0;34m.\u001b[0m\u001b[0mexponential\u001b[0m\u001b[0;34m(\u001b[0m\u001b[0meachMean\u001b[0m\u001b[0;34m)\u001b[0m\u001b[0;34m\u001b[0m\u001b[0;34m\u001b[0m\u001b[0m\n\u001b[0m\u001b[1;32m     27\u001b[0m         \u001b[0my\u001b[0m\u001b[0;34m.\u001b[0m\u001b[0mappend\u001b[0m\u001b[0;34m(\u001b[0m\u001b[0mrandomPrediction\u001b[0m\u001b[0;34m)\u001b[0m\u001b[0;34m\u001b[0m\u001b[0;34m\u001b[0m\u001b[0m\n\u001b[1;32m     28\u001b[0m         \u001b[0mprint\u001b[0m\u001b[0;34m(\u001b[0m\u001b[0mrandomPrediction\u001b[0m\u001b[0;34m,\u001b[0m \u001b[0meachMean\u001b[0m\u001b[0;34m)\u001b[0m\u001b[0;34m\u001b[0m\u001b[0;34m\u001b[0m\u001b[0m\n",
      "\u001b[0;32mmtrand.pyx\u001b[0m in \u001b[0;36mnumpy.random.mtrand.RandomState.exponential\u001b[0;34m()\u001b[0m\n",
      "\u001b[0;32mcommon.pyx\u001b[0m in \u001b[0;36mnumpy.random.common.cont\u001b[0;34m()\u001b[0m\n",
      "\u001b[0;32mcommon.pyx\u001b[0m in \u001b[0;36mnumpy.random.common.check_constraint\u001b[0;34m()\u001b[0m\n",
      "\u001b[0;31mValueError\u001b[0m: scale < 0"
     ]
    }
   ],
   "source": [
    "### All X.beta's have to be negative  :(\n",
    "### One reason that the generation function of X and beta needs work\n",
    "generateData('exponential')"
   ]
  },
  {
   "cell_type": "markdown",
   "metadata": {},
   "source": [
    "# Below are the individual functions, which I accumulated above. If you guys think the individual functions are better....."
   ]
  },
  {
   "cell_type": "code",
   "execution_count": 83,
   "metadata": {},
   "outputs": [],
   "source": [
    "# def generateBernoulliResponse(X, beta):\n",
    "#     meanValues = sigmoid(X.dot(beta)) ### Applying mean function\n",
    "#     meanValues = np.array([item for sublist in meanValues.values for item in sublist])\n",
    "#     y = []\n",
    "#     for eachMean in meanValues:\n",
    "#         np.random.seed(int(round(eachMean)))\n",
    "#         randomPrediction = np.random.binomial(1,eachMean) ### predict a random number using the mean\n",
    "#         y.append(randomPrediction)\n",
    "#         print(randomPrediction, eachMean)\n",
    "#     return y"
   ]
  },
  {
   "cell_type": "code",
   "execution_count": 88,
   "metadata": {},
   "outputs": [],
   "source": [
    "# def generatePoissonResponse(X, beta):\n",
    "#     meanValues = np.exp(X.dot(beta)) ### Applying mean function\n",
    "#     meanValues = np.array([item for sublist in meanValues.values for item in sublist])\n",
    "#     y = []\n",
    "#     for eachMean in meanValues:\n",
    "#         np.random.seed(int(round(eachMean)))\n",
    "#         randomPrediction = np.random.poisson(eachMean) ### predict a random number using the mean\n",
    "#         y.append(randomPrediction)\n",
    "#         print(randomPrediction, eachMean)\n",
    "#     return y"
   ]
  },
  {
   "cell_type": "code",
   "execution_count": null,
   "metadata": {},
   "outputs": [],
   "source": [
    "# def generateExponentialResponse(X, beta):\n",
    "#     meanValues = -1/X.dot(beta) ### Applying mean function\n",
    "#     meanValues = np.array([item for sublist in meanValues.values for item in sublist])\n",
    "#     y = []\n",
    "#     for eachMean in meanValues:\n",
    "#         np.random.seed(int(round(eachMean)))\n",
    "#         randomPrediction = np.random.exponential(eachMean) ### predict a random number using the mean\n",
    "#         y.append(randomPrediction)\n",
    "#         print(randomPrediction, eachMean)\n",
    "#     return y"
   ]
  },
  {
   "cell_type": "code",
   "execution_count": 95,
   "metadata": {},
   "outputs": [],
   "source": [
    "# def generateBernoulliData():\n",
    "#     X = generateX()\n",
    "\n",
    "#     n,p = X.shape\n",
    "#     beta = generateRandomBeta(p)\n",
    "\n",
    "#     y = generateBernoulliResponse(X, beta)\n",
    "#     return X, beta, y"
   ]
  },
  {
   "cell_type": "code",
   "execution_count": 96,
   "metadata": {},
   "outputs": [],
   "source": [
    "# def generatePoissonData():\n",
    "#     X = generateX()\n",
    "\n",
    "#     n,p = X.shape\n",
    "#     beta = generateRandomBeta(p)\n",
    "\n",
    "#     y = generatePoissonResponse(X, beta)\n",
    "#     return X, beta, y"
   ]
  },
  {
   "cell_type": "code",
   "execution_count": 97,
   "metadata": {},
   "outputs": [],
   "source": [
    "# def generateExponentialData():\n",
    "#     X = generateX()\n",
    "\n",
    "#     n,p = X.shape\n",
    "#     beta = generateRandomBeta(p)\n",
    "\n",
    "#     y = generateExponentialResponse(X, beta)\n",
    "#     return X, beta, y"
   ]
  },
  {
   "cell_type": "code",
   "execution_count": null,
   "metadata": {},
   "outputs": [],
   "source": []
  }
 ],
 "metadata": {
  "kernelspec": {
   "display_name": "Python 3",
   "language": "python",
   "name": "python3"
  },
  "language_info": {
   "codemirror_mode": {
    "name": "ipython",
    "version": 3
   },
   "file_extension": ".py",
   "mimetype": "text/x-python",
   "name": "python",
   "nbconvert_exporter": "python",
   "pygments_lexer": "ipython3",
   "version": "3.7.4"
  }
 },
 "nbformat": 4,
 "nbformat_minor": 2
}
