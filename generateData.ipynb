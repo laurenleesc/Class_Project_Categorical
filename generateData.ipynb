{
 "cells": [
  {
   "cell_type": "code",
   "execution_count": 116,
   "metadata": {},
   "outputs": [],
   "source": [
    "import numpy as np\n",
    "import pandas as pd\n",
    "import matplotlib.pyplot as plt\n",
    "%matplotlib inline\n",
    "import random\n",
    "from scipy import random as rm, linalg"
   ]
  },
  {
   "cell_type": "markdown",
   "metadata": {},
   "source": [
    "In 'Binomial Distribution.ipynb', I used sklearn to see if it could estimate our betas.  It performed very poorly.  I wonder if there is a problem with our original data generation, may be they were correlated.  I found this new resource: https://beckernick.github.io/logistic-regression-from-scratch/ and am going to try to see if this works."
   ]
  },
  {
   "cell_type": "markdown",
   "metadata": {},
   "source": [
    "The below code only works for two p's.  I'm having trouble with the covariance matrix."
   ]
  },
  {
   "cell_type": "code",
   "execution_count": 90,
   "metadata": {},
   "outputs": [],
   "source": [
    "#testing the new branch"
   ]
  },
  {
   "cell_type": "code",
   "execution_count": 2,
   "metadata": {},
   "outputs": [],
   "source": [
    "def generateNormalVariables(n, normalVar):\n",
    "    p = normalVar# number of normal predictors\n",
    "    mu_0_cases = []\n",
    "    mu_1_cases = []\n",
    "    cov=[[1, .75] , [.75, 1]] #covariance matrix must be positive semidefinite (a.k.a. nonnegative-definite). Otherwise, the behavior of this method is undefined and backwards compatibility is not guaranteed.\n",
    "    np.random.seed(12)\n",
    "    \n",
    "    #create list of random mus for the 0 labels, list is p long.  \n",
    "    for index in range (0,p):\n",
    "        mu_0_cases.append(random.randrange(-5,5))\n",
    "\n",
    "    #create list of random mus for the 1 labels, list is p long.  \n",
    "    for index in range (0,p):\n",
    "        mu_1_cases.append(random.randrange(-5,5))\n",
    "        \n",
    "    \n",
    "    \n",
    "    #We have to generate two slightly different samples to label zeroes and ones.  These have to be semi-separable....\n",
    "    x0 = np.random.multivariate_normal(mu_0_cases, cov, num_observations)\n",
    "    x1 = np.random.multivariate_normal(mu_1_cases, cov, num_observations)\n",
    "    \n",
    "    simulated_separableish_features = np.vstack((x0, x1)).astype(np.float32)\n",
    "    simulated_labels = np.hstack((np.zeros(num_observations), np.ones(num_observations)))"
   ]
  },
  {
   "cell_type": "code",
   "execution_count": 92,
   "metadata": {},
   "outputs": [],
   "source": [
    "Xnorm = generateNormalVariables(30, 2)\n",
    "Xnorm = pd.DataFrame.from_dict(Xnorm)"
   ]
  },
  {
   "cell_type": "code",
   "execution_count": 117,
   "metadata": {},
   "outputs": [
    {
     "name": "stdout",
     "output_type": "stream",
     "text": [
      "random positive semi-define matrix diagonals for today is [ 5.62391206  8.95704146 12.7300451  10.5186036 ]\n"
     ]
    }
   ],
   "source": [
    "#https://stackoverflow.com/questions/619335/a-simple-algorithm-for-generating-positive-semidefinite-matrices\n",
    "\n",
    "p = 4\n",
    "n = 30\n",
    "A = rm.rand(p,n)\n",
    "B = np.dot(A,A.transpose())\n",
    "B=B.diagonal()\n",
    "print ('random positive semi-define matrix diagonals for today is', B)"
   ]
  },
  {
   "cell_type": "code",
   "execution_count": 28,
   "metadata": {},
   "outputs": [],
   "source": [
    "def generateCountVariables(n, countVar, maxCount):\n",
    "    X = {}\n",
    "    \n",
    "    for i in range(countVar):\n",
    "        ### In this part we are generating variable, which takes discrete/count values\n",
    "        ### Earlier we provided arbitary max count (for example: max number of visit to doctor is 6)\n",
    "        ### Then I generate a population of (n x maxCount) entries. Each entry occurs n times in the pop\n",
    "        ### Finally after shuffling the population, we take a random sample of n elements, which is X_i\n",
    "        \n",
    "        maxCt = maxCount[i]\n",
    "        counts = np.arange(maxCt)\n",
    "        population = np.repeat(counts , n)\n",
    "        random.shuffle(population)\n",
    "        X[i] = random.sample(list(population), n)\n",
    "    return X"
   ]
  },
  {
   "cell_type": "code",
   "execution_count": 29,
   "metadata": {},
   "outputs": [],
   "source": [
    "def generateCategoricalVariables(n, catVar, catNumber):\n",
    "    temp = {}\n",
    "    \n",
    "    for i in range(catVar):\n",
    "        ### We follow the same principle as count variables. \n",
    "        ### But, finally we convert the categorical variables to dummy variables\n",
    "        ### Note: We use **** k dummy variables **** for k categories\n",
    "        \n",
    "        \n",
    "        noOfCat = catNumber[i]\n",
    "        categories = np.arange(noOfCat)\n",
    "        population = np.repeat(categories , n)\n",
    "        random.shuffle(population)\n",
    "        temp[i] = random.sample(list(population), n)\n",
    "    X = pd.DataFrame.from_dict(temp)\n",
    "    X = pd.get_dummies(X,columns=X.columns,drop_first=False)\n",
    "    return X"
   ]
  },
  {
   "cell_type": "code",
   "execution_count": 30,
   "metadata": {},
   "outputs": [],
   "source": [
    "def generateRandomIntercept(n):\n",
    "    ### For each observation (X) we generate an intercept\n",
    "    np.random.seed(seed = 123)\n",
    "    intercept =  np.random.normal(0, 1, n)*5\n",
    "    return intercept"
   ]
  },
  {
   "cell_type": "code",
   "execution_count": 31,
   "metadata": {},
   "outputs": [],
   "source": [
    "### The following function also needs some cleaning up. \n",
    "### It is just generating all types of variables and putting them together\n",
    "### We also define how many observations, how many of each variable we need to generate here\n",
    "\n",
    "def generateX():\n",
    "    \n",
    "    n = int(input('Enter number of observations:'))\n",
    "#     normalVar = int(input('Enter number of variables normally distributed:'))\n",
    "    normalVar = 5\n",
    "    Xnorm = generateNormalVariables(n, normalVar)\n",
    "    Xnorm = pd.DataFrame.from_dict(Xnorm)\n",
    "    \n",
    "    \n",
    "#     catVar = int(input('Enter number of categorical variables:'))\n",
    "#     catNumber = input('Enter the numbers separated by space: each number correspond to number of categories:')\n",
    "#     catNumber = list(map(int, catNumber.split()))\n",
    "    catVar = 1\n",
    "    catNumber = [2]\n",
    "    Xcat = generateCategoricalVariables(n, catVar, catNumber)#Make sure catvar = len(catNumber)\n",
    "    \n",
    "    \n",
    "#     countVar = int(input('Enter number of count variables:'))\n",
    "#     maxCount = input('Enter the numbers separated by space: each number correspond to maxCount:')\n",
    "#     maxCount = list(map(int, maxCount.split()))\n",
    "    countVar = 1\n",
    "    maxCount = [4]\n",
    "    Xcnt = generateCountVariables(n, countVar, maxCount)#Make sure countVar = len(maxCount)\n",
    "    Xcnt = pd.DataFrame.from_dict(Xcnt)\n",
    "\n",
    "    \n",
    "    X = pd.concat([Xnorm,Xcat,Xcnt],ignore_index=True,axis=1)\n",
    "    \n",
    "    intercept = generateRandomIntercept(n)\n",
    "    intercept = pd.DataFrame(intercept.reshape(n,1))\n",
    "    X = pd.concat([intercept,X],axis = 1,ignore_index=True)#X with intercept\n",
    "    return X"
   ]
  },
  {
   "cell_type": "code",
   "execution_count": 32,
   "metadata": {},
   "outputs": [],
   "source": [
    "def sigmoid(z):\n",
    "    return 1/(1+np.exp(-z))"
   ]
  },
  {
   "cell_type": "code",
   "execution_count": 33,
   "metadata": {},
   "outputs": [],
   "source": [
    "### This function generates response variable (y)\n",
    "### As input with X matrix n x (p+1), and beta vector (p+1) x 1\n",
    "### We also provide the name of the distribution as a quoted string\n",
    "\n",
    "def generateResponseVariable(X, beta, dist):\n",
    "    if dist == 'bernoulli':\n",
    "        meanValues = sigmoid(X.dot(beta)) \n",
    "    elif dist == 'poisson':\n",
    "        meanValues = np.exp(X.dot(beta))\n",
    "    elif dist == 'exponential':\n",
    "        meanValues = -1/(X.dot(beta))\n",
    "    else:\n",
    "        print('please spell check distribution name, all lowercase: bernoulli, poisson or exponential')\n",
    "        \n",
    "    \n",
    "    meanValues = np.array([item for sublist in meanValues.values for item in sublist])\n",
    "    y = []\n",
    "    \n",
    "    for eachMean in meanValues:\n",
    "        np.random.seed(int(round(eachMean)))\n",
    "        if dist == 'bernoulli':\n",
    "            randomPrediction = np.random.binomial(1,eachMean)\n",
    "        elif dist == 'poisson':\n",
    "            randomPrediction = np.random.poisson(eachMean)\n",
    "        elif dist == 'exponential':\n",
    "            randomPrediction = np.random.exponential(eachMean)\n",
    "        y.append(randomPrediction)\n",
    "        print(randomPrediction, eachMean)\n",
    "    \n",
    "    return y"
   ]
  },
  {
   "cell_type": "code",
   "execution_count": 34,
   "metadata": {},
   "outputs": [],
   "source": [
    "### This generates p random beta and 1 as intercept (which we can consider as true beta)\n",
    "### This function needs work\n",
    "### Either we have to find beta's, which work for all three distributions\n",
    "### Or we can generate different sets of beta's for different distribution\n",
    "### I think, same beta's would be better for comparison\n",
    "\n",
    "\n",
    "def generateRandomBeta(p):\n",
    "    beta = {}\n",
    "    for j in range(p-1):\n",
    "        random.seed(j)#seed for random number generator\n",
    "        beta[j] = (j*0.5+1)*(-1)**j#random beta for each predictor\n",
    "    \n",
    "    beta = pd.DataFrame(list(beta.items()))\n",
    "    beta = beta.drop([0],axis=1)\n",
    "    \n",
    "    beta.loc[-1] = [1]  \n",
    "    beta.index = beta.index + 1  \n",
    "    beta = beta.sort_index()# Beta with intercept\n",
    "    return beta"
   ]
  },
  {
   "cell_type": "code",
   "execution_count": 35,
   "metadata": {},
   "outputs": [],
   "source": [
    "### This little function is just commanding to generate X, beta and y\n",
    "def generateData(dist):\n",
    "    X = generateX()\n",
    "\n",
    "    n,p = X.shape\n",
    "    beta = generateRandomBeta(p)\n",
    "\n",
    "    y = generateResponseVariable(X, beta, dist) ### dist means pass distribution name as string\n",
    "    return X, beta, y"
   ]
  },
  {
   "cell_type": "code",
   "execution_count": 36,
   "metadata": {},
   "outputs": [],
   "source": [
    "#generateData('bernoulli')"
   ]
  },
  {
   "cell_type": "code",
   "execution_count": 57,
   "metadata": {},
   "outputs": [
    {
     "name": "stdout",
     "output_type": "stream",
     "text": [
      "Enter number of observations:30\n"
     ]
    },
    {
     "ename": "ValueError",
     "evalue": "mean must be 1 dimensional",
     "output_type": "error",
     "traceback": [
      "\u001b[1;31m---------------------------------------------------------------------------\u001b[0m",
      "\u001b[1;31mValueError\u001b[0m                                Traceback (most recent call last)",
      "\u001b[1;32m<ipython-input-57-92e37605779d>\u001b[0m in \u001b[0;36m<module>\u001b[1;34m()\u001b[0m\n\u001b[0;32m      1\u001b[0m \u001b[1;31m#write bernoulli data to .npy for permanent random copy\u001b[0m\u001b[1;33m\u001b[0m\u001b[1;33m\u001b[0m\u001b[1;33m\u001b[0m\u001b[0m\n\u001b[1;32m----> 2\u001b[1;33m \u001b[0mdf\u001b[0m\u001b[1;33m=\u001b[0m\u001b[0mgenerateData\u001b[0m\u001b[1;33m(\u001b[0m\u001b[1;34m'bernoulli'\u001b[0m\u001b[1;33m)\u001b[0m\u001b[1;33m\u001b[0m\u001b[1;33m\u001b[0m\u001b[0m\n\u001b[0m",
      "\u001b[1;32m<ipython-input-35-afd55a844d51>\u001b[0m in \u001b[0;36mgenerateData\u001b[1;34m(dist)\u001b[0m\n\u001b[0;32m      1\u001b[0m \u001b[1;31m### This little function is just commanding to generate X, beta and y\u001b[0m\u001b[1;33m\u001b[0m\u001b[1;33m\u001b[0m\u001b[1;33m\u001b[0m\u001b[0m\n\u001b[0;32m      2\u001b[0m \u001b[1;32mdef\u001b[0m \u001b[0mgenerateData\u001b[0m\u001b[1;33m(\u001b[0m\u001b[0mdist\u001b[0m\u001b[1;33m)\u001b[0m\u001b[1;33m:\u001b[0m\u001b[1;33m\u001b[0m\u001b[1;33m\u001b[0m\u001b[0m\n\u001b[1;32m----> 3\u001b[1;33m     \u001b[0mX\u001b[0m \u001b[1;33m=\u001b[0m \u001b[0mgenerateX\u001b[0m\u001b[1;33m(\u001b[0m\u001b[1;33m)\u001b[0m\u001b[1;33m\u001b[0m\u001b[1;33m\u001b[0m\u001b[0m\n\u001b[0m\u001b[0;32m      4\u001b[0m \u001b[1;33m\u001b[0m\u001b[0m\n\u001b[0;32m      5\u001b[0m     \u001b[0mn\u001b[0m\u001b[1;33m,\u001b[0m\u001b[0mp\u001b[0m \u001b[1;33m=\u001b[0m \u001b[0mX\u001b[0m\u001b[1;33m.\u001b[0m\u001b[0mshape\u001b[0m\u001b[1;33m\u001b[0m\u001b[1;33m\u001b[0m\u001b[0m\n",
      "\u001b[1;32m<ipython-input-31-8b57c5bce302>\u001b[0m in \u001b[0;36mgenerateX\u001b[1;34m()\u001b[0m\n\u001b[0;32m      8\u001b[0m \u001b[1;31m#     normalVar = int(input('Enter number of variables normally distributed:'))\u001b[0m\u001b[1;33m\u001b[0m\u001b[1;33m\u001b[0m\u001b[1;33m\u001b[0m\u001b[0m\n\u001b[0;32m      9\u001b[0m     \u001b[0mnormalVar\u001b[0m \u001b[1;33m=\u001b[0m \u001b[1;36m5\u001b[0m\u001b[1;33m\u001b[0m\u001b[1;33m\u001b[0m\u001b[0m\n\u001b[1;32m---> 10\u001b[1;33m     \u001b[0mXnorm\u001b[0m \u001b[1;33m=\u001b[0m \u001b[0mgenerateNormalVariables\u001b[0m\u001b[1;33m(\u001b[0m\u001b[0mn\u001b[0m\u001b[1;33m,\u001b[0m \u001b[0mnormalVar\u001b[0m\u001b[1;33m)\u001b[0m\u001b[1;33m\u001b[0m\u001b[1;33m\u001b[0m\u001b[0m\n\u001b[0m\u001b[0;32m     11\u001b[0m     \u001b[0mXnorm\u001b[0m \u001b[1;33m=\u001b[0m \u001b[0mpd\u001b[0m\u001b[1;33m.\u001b[0m\u001b[0mDataFrame\u001b[0m\u001b[1;33m.\u001b[0m\u001b[0mfrom_dict\u001b[0m\u001b[1;33m(\u001b[0m\u001b[0mXnorm\u001b[0m\u001b[1;33m)\u001b[0m\u001b[1;33m\u001b[0m\u001b[1;33m\u001b[0m\u001b[0m\n\u001b[0;32m     12\u001b[0m \u001b[1;33m\u001b[0m\u001b[0m\n",
      "\u001b[1;32m<ipython-input-56-73bcd0d79142>\u001b[0m in \u001b[0;36mgenerateNormalVariables\u001b[1;34m(n, normalVar)\u001b[0m\n\u001b[0;32m     12\u001b[0m         \u001b[0mmu\u001b[0m \u001b[1;33m=\u001b[0m \u001b[0mj\u001b[0m\u001b[1;33m*\u001b[0m\u001b[1;33m(\u001b[0m\u001b[1;33m-\u001b[0m\u001b[0mrandom\u001b[0m\u001b[1;33m.\u001b[0m\u001b[0mrandom\u001b[0m\u001b[1;33m(\u001b[0m\u001b[1;33m)\u001b[0m\u001b[1;33m)\u001b[0m\u001b[1;33m**\u001b[0m\u001b[0mj\u001b[0m\u001b[1;33m,\u001b[0m\u001b[0mrandom\u001b[0m\u001b[1;33m.\u001b[0m\u001b[0mrandom\u001b[0m\u001b[1;33m(\u001b[0m\u001b[1;33m)\u001b[0m\u001b[1;33m*\u001b[0m\u001b[1;33m(\u001b[0m\u001b[0mj\u001b[0m \u001b[1;33m+\u001b[0m \u001b[1;36m0.5\u001b[0m\u001b[1;33m*\u001b[0m\u001b[1;33m(\u001b[0m\u001b[1;33m-\u001b[0m\u001b[1;36m1\u001b[0m\u001b[1;33m)\u001b[0m\u001b[1;33m**\u001b[0m\u001b[0mj\u001b[0m\u001b[1;33m)\u001b[0m\u001b[1;33m\u001b[0m\u001b[1;33m\u001b[0m\u001b[0m\n\u001b[0;32m     13\u001b[0m         \u001b[0mmu\u001b[0m\u001b[1;33m=\u001b[0m\u001b[1;33m(\u001b[0m\u001b[0mlist\u001b[0m\u001b[1;33m(\u001b[0m\u001b[0mmu\u001b[0m\u001b[1;33m)\u001b[0m\u001b[1;33m)\u001b[0m\u001b[1;33m\u001b[0m\u001b[1;33m\u001b[0m\u001b[0m\n\u001b[1;32m---> 14\u001b[1;33m         \u001b[0mX\u001b[0m\u001b[1;33m[\u001b[0m\u001b[0mj\u001b[0m\u001b[1;33m]\u001b[0m \u001b[1;33m=\u001b[0m \u001b[0mnp\u001b[0m\u001b[1;33m.\u001b[0m\u001b[0mrandom\u001b[0m\u001b[1;33m.\u001b[0m\u001b[0mmultivariate_normal\u001b[0m\u001b[1;33m(\u001b[0m\u001b[0mmu\u001b[0m\u001b[1;33m[\u001b[0m\u001b[0mj\u001b[0m\u001b[1;33m]\u001b[0m\u001b[1;33m,\u001b[0m \u001b[0mcov\u001b[0m\u001b[1;33m,\u001b[0m \u001b[0mn\u001b[0m\u001b[1;33m)\u001b[0m\u001b[1;33m\u001b[0m\u001b[1;33m\u001b[0m\u001b[0m\n\u001b[0m\u001b[0;32m     15\u001b[0m     \u001b[1;32mreturn\u001b[0m \u001b[0mX\u001b[0m\u001b[1;33m\u001b[0m\u001b[1;33m\u001b[0m\u001b[0m\n",
      "\u001b[1;32mmtrand.pyx\u001b[0m in \u001b[0;36mmtrand.RandomState.multivariate_normal\u001b[1;34m()\u001b[0m\n",
      "\u001b[1;31mValueError\u001b[0m: mean must be 1 dimensional"
     ]
    }
   ],
   "source": [
    "#write bernoulli data to .npy for permanent random copy\n",
    "df=generateData('bernoulli')"
   ]
  },
  {
   "cell_type": "code",
   "execution_count": 13,
   "metadata": {},
   "outputs": [],
   "source": [
    "np.save('bernoulli_X',df[0])\n",
    "np.save('bernoulli_betas',df[1])\n",
    "np.save('bernoulli_y',df[2])"
   ]
  },
  {
   "cell_type": "code",
   "execution_count": null,
   "metadata": {},
   "outputs": [],
   "source": []
  },
  {
   "cell_type": "code",
   "execution_count": 14,
   "metadata": {},
   "outputs": [
    {
     "name": "stdout",
     "output_type": "stream",
     "text": [
      "Enter number of observations:2\n",
      "0 9.283452093879888e-05\n",
      "7867 7847.5342404768735\n"
     ]
    },
    {
     "data": {
      "text/plain": [
       "(          0         1         2         3         4         5  6  7\n",
       " 0 -5.428153  0.668536  0.553898  0.840467  2.393134  0.035891  1  1\n",
       " 1  4.986727  0.151650 -0.393576  1.694675  0.553478  0.244519  1  1,      1\n",
       " 0  1.0\n",
       " 1  1.0\n",
       " 2 -1.5\n",
       " 3  2.0\n",
       " 4 -2.5\n",
       " 5  3.0\n",
       " 6 -3.5\n",
       " 7  4.0, [0, 7867])"
      ]
     },
     "execution_count": 14,
     "metadata": {},
     "output_type": "execute_result"
    }
   ],
   "source": [
    "### Look at the poisson responses\n",
    "### The dispersion is too high :(\n",
    "### One reason that the X's and beta's need careful consideration\n",
    "generateData('poisson')"
   ]
  },
  {
   "cell_type": "code",
   "execution_count": 17,
   "metadata": {},
   "outputs": [
    {
     "name": "stdout",
     "output_type": "stream",
     "text": [
      "Enter number of observations:5\n",
      "0.04475053649569026 0.05622813149145228\n"
     ]
    },
    {
     "ename": "ValueError",
     "evalue": "scale < 0",
     "output_type": "error",
     "traceback": [
      "\u001b[0;31m---------------------------------------------------------------------------\u001b[0m",
      "\u001b[0;31mValueError\u001b[0m                                Traceback (most recent call last)",
      "\u001b[0;32m<ipython-input-17-e6254ef19df2>\u001b[0m in \u001b[0;36m<module>\u001b[0;34m\u001b[0m\n\u001b[1;32m      1\u001b[0m \u001b[0;31m### All X.beta's have to be negative  :(\u001b[0m\u001b[0;34m\u001b[0m\u001b[0;34m\u001b[0m\u001b[0;34m\u001b[0m\u001b[0m\n\u001b[1;32m      2\u001b[0m \u001b[0;31m### One reason that the generation function of X and beta needs work\u001b[0m\u001b[0;34m\u001b[0m\u001b[0;34m\u001b[0m\u001b[0;34m\u001b[0m\u001b[0m\n\u001b[0;32m----> 3\u001b[0;31m \u001b[0mgenerateData\u001b[0m\u001b[0;34m(\u001b[0m\u001b[0;34m'exponential'\u001b[0m\u001b[0;34m)\u001b[0m\u001b[0;34m\u001b[0m\u001b[0;34m\u001b[0m\u001b[0m\n\u001b[0m",
      "\u001b[0;32m<ipython-input-11-afd55a844d51>\u001b[0m in \u001b[0;36mgenerateData\u001b[0;34m(dist)\u001b[0m\n\u001b[1;32m      6\u001b[0m     \u001b[0mbeta\u001b[0m \u001b[0;34m=\u001b[0m \u001b[0mgenerateRandomBeta\u001b[0m\u001b[0;34m(\u001b[0m\u001b[0mp\u001b[0m\u001b[0;34m)\u001b[0m\u001b[0;34m\u001b[0m\u001b[0;34m\u001b[0m\u001b[0m\n\u001b[1;32m      7\u001b[0m \u001b[0;34m\u001b[0m\u001b[0m\n\u001b[0;32m----> 8\u001b[0;31m     \u001b[0my\u001b[0m \u001b[0;34m=\u001b[0m \u001b[0mgenerateResponseVariable\u001b[0m\u001b[0;34m(\u001b[0m\u001b[0mX\u001b[0m\u001b[0;34m,\u001b[0m \u001b[0mbeta\u001b[0m\u001b[0;34m,\u001b[0m \u001b[0mdist\u001b[0m\u001b[0;34m)\u001b[0m \u001b[0;31m### dist means pass distribution name as string\u001b[0m\u001b[0;34m\u001b[0m\u001b[0;34m\u001b[0m\u001b[0m\n\u001b[0m\u001b[1;32m      9\u001b[0m     \u001b[0;32mreturn\u001b[0m \u001b[0mX\u001b[0m\u001b[0;34m,\u001b[0m \u001b[0mbeta\u001b[0m\u001b[0;34m,\u001b[0m \u001b[0my\u001b[0m\u001b[0;34m\u001b[0m\u001b[0;34m\u001b[0m\u001b[0m\n",
      "\u001b[0;32m<ipython-input-8-14b0c17f63b6>\u001b[0m in \u001b[0;36mgenerateResponseVariable\u001b[0;34m(X, beta, dist)\u001b[0m\n\u001b[1;32m     24\u001b[0m             \u001b[0mrandomPrediction\u001b[0m \u001b[0;34m=\u001b[0m \u001b[0mnp\u001b[0m\u001b[0;34m.\u001b[0m\u001b[0mrandom\u001b[0m\u001b[0;34m.\u001b[0m\u001b[0mpoisson\u001b[0m\u001b[0;34m(\u001b[0m\u001b[0meachMean\u001b[0m\u001b[0;34m)\u001b[0m\u001b[0;34m\u001b[0m\u001b[0;34m\u001b[0m\u001b[0m\n\u001b[1;32m     25\u001b[0m         \u001b[0;32melif\u001b[0m \u001b[0mdist\u001b[0m \u001b[0;34m==\u001b[0m \u001b[0;34m'exponential'\u001b[0m\u001b[0;34m:\u001b[0m\u001b[0;34m\u001b[0m\u001b[0;34m\u001b[0m\u001b[0m\n\u001b[0;32m---> 26\u001b[0;31m             \u001b[0mrandomPrediction\u001b[0m \u001b[0;34m=\u001b[0m \u001b[0mnp\u001b[0m\u001b[0;34m.\u001b[0m\u001b[0mrandom\u001b[0m\u001b[0;34m.\u001b[0m\u001b[0mexponential\u001b[0m\u001b[0;34m(\u001b[0m\u001b[0meachMean\u001b[0m\u001b[0;34m)\u001b[0m\u001b[0;34m\u001b[0m\u001b[0;34m\u001b[0m\u001b[0m\n\u001b[0m\u001b[1;32m     27\u001b[0m         \u001b[0my\u001b[0m\u001b[0;34m.\u001b[0m\u001b[0mappend\u001b[0m\u001b[0;34m(\u001b[0m\u001b[0mrandomPrediction\u001b[0m\u001b[0;34m)\u001b[0m\u001b[0;34m\u001b[0m\u001b[0;34m\u001b[0m\u001b[0m\n\u001b[1;32m     28\u001b[0m         \u001b[0mprint\u001b[0m\u001b[0;34m(\u001b[0m\u001b[0mrandomPrediction\u001b[0m\u001b[0;34m,\u001b[0m \u001b[0meachMean\u001b[0m\u001b[0;34m)\u001b[0m\u001b[0;34m\u001b[0m\u001b[0;34m\u001b[0m\u001b[0m\n",
      "\u001b[0;32mmtrand.pyx\u001b[0m in \u001b[0;36mnumpy.random.mtrand.RandomState.exponential\u001b[0;34m()\u001b[0m\n",
      "\u001b[0;32mcommon.pyx\u001b[0m in \u001b[0;36mnumpy.random.common.cont\u001b[0;34m()\u001b[0m\n",
      "\u001b[0;32mcommon.pyx\u001b[0m in \u001b[0;36mnumpy.random.common.check_constraint\u001b[0;34m()\u001b[0m\n",
      "\u001b[0;31mValueError\u001b[0m: scale < 0"
     ]
    }
   ],
   "source": [
    "### All X.beta's have to be negative  :(\n",
    "### One reason that the generation function of X and beta needs work\n",
    "generateData('exponential')"
   ]
  },
  {
   "cell_type": "markdown",
   "metadata": {},
   "source": [
    "# Below are the individual functions, which I accumulated above. If you guys think the individual functions are better....."
   ]
  },
  {
   "cell_type": "code",
   "execution_count": 83,
   "metadata": {},
   "outputs": [],
   "source": [
    "# def generateBernoulliResponse(X, beta):\n",
    "#     meanValues = sigmoid(X.dot(beta)) ### Applying mean function\n",
    "#     meanValues = np.array([item for sublist in meanValues.values for item in sublist])\n",
    "#     y = []\n",
    "#     for eachMean in meanValues:\n",
    "#         np.random.seed(int(round(eachMean)))\n",
    "#         randomPrediction = np.random.binomial(1,eachMean) ### predict a random number using the mean\n",
    "#         y.append(randomPrediction)\n",
    "#         print(randomPrediction, eachMean)\n",
    "#     return y"
   ]
  },
  {
   "cell_type": "code",
   "execution_count": 88,
   "metadata": {},
   "outputs": [],
   "source": [
    "# def generatePoissonResponse(X, beta):\n",
    "#     meanValues = np.exp(X.dot(beta)) ### Applying mean function\n",
    "#     meanValues = np.array([item for sublist in meanValues.values for item in sublist])\n",
    "#     y = []\n",
    "#     for eachMean in meanValues:\n",
    "#         np.random.seed(int(round(eachMean)))\n",
    "#         randomPrediction = np.random.poisson(eachMean) ### predict a random number using the mean\n",
    "#         y.append(randomPrediction)\n",
    "#         print(randomPrediction, eachMean)\n",
    "#     return y"
   ]
  },
  {
   "cell_type": "code",
   "execution_count": null,
   "metadata": {},
   "outputs": [],
   "source": [
    "# def generateExponentialResponse(X, beta):\n",
    "#     meanValues = -1/X.dot(beta) ### Applying mean function\n",
    "#     meanValues = np.array([item for sublist in meanValues.values for item in sublist])\n",
    "#     y = []\n",
    "#     for eachMean in meanValues:\n",
    "#         np.random.seed(int(round(eachMean)))\n",
    "#         randomPrediction = np.random.exponential(eachMean) ### predict a random number using the mean\n",
    "#         y.append(randomPrediction)\n",
    "#         print(randomPrediction, eachMean)\n",
    "#     return y"
   ]
  },
  {
   "cell_type": "code",
   "execution_count": 95,
   "metadata": {},
   "outputs": [],
   "source": [
    "# def generateBernoulliData():\n",
    "#     X = generateX()\n",
    "\n",
    "#     n,p = X.shape\n",
    "#     beta = generateRandomBeta(p)\n",
    "\n",
    "#     y = generateBernoulliResponse(X, beta)\n",
    "#     return X, beta, y"
   ]
  },
  {
   "cell_type": "code",
   "execution_count": 96,
   "metadata": {},
   "outputs": [],
   "source": [
    "# def generatePoissonData():\n",
    "#     X = generateX()\n",
    "\n",
    "#     n,p = X.shape\n",
    "#     beta = generateRandomBeta(p)\n",
    "\n",
    "#     y = generatePoissonResponse(X, beta)\n",
    "#     return X, beta, y"
   ]
  },
  {
   "cell_type": "code",
   "execution_count": 97,
   "metadata": {},
   "outputs": [],
   "source": [
    "# def generateExponentialData():\n",
    "#     X = generateX()\n",
    "\n",
    "#     n,p = X.shape\n",
    "#     beta = generateRandomBeta(p)\n",
    "\n",
    "#     y = generateExponentialResponse(X, beta)\n",
    "#     return X, beta, y"
   ]
  },
  {
   "cell_type": "code",
   "execution_count": null,
   "metadata": {},
   "outputs": [],
   "source": []
  }
 ],
 "metadata": {
  "kernelspec": {
   "display_name": "Python 3",
   "language": "python",
   "name": "python3"
  },
  "language_info": {
   "codemirror_mode": {
    "name": "ipython",
    "version": 3
   },
   "file_extension": ".py",
   "mimetype": "text/x-python",
   "name": "python",
   "nbconvert_exporter": "python",
   "pygments_lexer": "ipython3",
   "version": "3.7.3"
  }
 },
 "nbformat": 4,
 "nbformat_minor": 2
}
