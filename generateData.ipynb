{
 "cells": [
  {
   "cell_type": "code",
   "execution_count": 1,
   "metadata": {},
   "outputs": [],
   "source": [
    "import numpy as np\n",
    "import pandas as pd\n",
    "import matplotlib.pyplot as plt\n",
    "%matplotlib inline\n",
    "import random"
   ]
  },
  {
   "cell_type": "code",
   "execution_count": 2,
   "metadata": {},
   "outputs": [],
   "source": [
    "def generateNormalVariables(n, normalVar, mu_mean=0, mu_stdev=1, sd_mean=0, sd_stdev=1):\n",
    "\n",
    "    X = {}\n",
    "\n",
    "    for j in range(normalVar):\n",
    "        np.random.seed(seed = j)   #seed for distribution\n",
    "        random.seed(j)   #seed for random number generator\n",
    "        \n",
    "        # The following two lines generate random mean and variance for each predictor from\n",
    "        # from random normal distributions for each of the mean and standard deviation\n",
    "        mu = np.random.normal(mu_mean, mu_stdev)\n",
    "        sigma = abs(np.random.normal(sd_mean, sd_stdev))\n",
    "        \n",
    "        X[j] = np.random.normal(mu, sigma, n)\n",
    "    return X"
   ]
  },
  {
   "cell_type": "code",
   "execution_count": 3,
   "metadata": {},
   "outputs": [
    {
     "data": {
      "text/plain": [
       "(array([  5.,  18.,  74., 193., 257., 250., 147.,  38.,  14.,   4.]),\n",
       " array([-0.64532212, -0.41714632, -0.18897052,  0.03920528,  0.26738108,\n",
       "         0.49555687,  0.72373267,  0.95190847,  1.18008427,  1.40826006,\n",
       "         1.63643586]),\n",
       " <a list of 10 Patch objects>)"
      ]
     },
     "execution_count": 3,
     "metadata": {},
     "output_type": "execute_result"
    },
    {
     "data": {
      "image/png": "[encoded data removed]",
      "text/plain": [
       "<Figure size 432x288 with 1 Axes>"
      ]
     },
     "metadata": {
      "needs_background": "light"
     },
     "output_type": "display_data"
    }
   ],
   "source": [
    "# Visualizing distribution of a few variables from generateNormalVariables (density plots would be better)\n",
    "var_dict = generateNormalVariables(1000,10)\n",
    "plt.hist(var_dict[0])\n",
    "plt.hist(var_dict[1])\n",
    "plt.hist(var_dict[4])\n",
    "plt.hist(var_dict[3])\n",
    "plt.hist(var_dict[2])\n",
    "plt.hist(var_dict[5])"
   ]
  },
  {
   "cell_type": "code",
   "execution_count": 4,
   "metadata": {},
   "outputs": [],
   "source": [
    "def generateCountVariables(n, countVar, pois_mean=2):\n",
    "    X = {}\n",
    "    \n",
    "    for i in range(countVar):\n",
    "        # Created alternative count variable generation method to generate counts from negative binomial distribution.\n",
    "        # Negative binomial is basically the number of trials to obtain fixed \"num\" successes when the success probability\n",
    "        # is p (whereas regular binomial is number of successes for fixed number of trials with success probability p).\n",
    "        np.random.seed(seed = i)   #seed for distribution\n",
    "        random.seed(i)   #seed for random number generator\n",
    "        \n",
    "        # The following two lines generate random parameters for negative binomial distribution to draw counts from\n",
    "        # Poisson seemed like a natural choice for \"num\" successes, and uniform seemed like a natural choice for \n",
    "        # generating success probabilities.\n",
    "        num = np.random.poisson(pois_mean) + 1 #add one to ensure num > 0\n",
    "        p = np.random.uniform(low=0.8,high=0.9) # Placed some limits on p to avoid insanely high counts     \n",
    "        X[i] = np.random.negative_binomial(num, p, n)\n",
    "    return X"
   ]
  },
  {
   "cell_type": "code",
   "execution_count": 5,
   "metadata": {},
   "outputs": [
    {
     "data": {
      "text/plain": [
       "(array([713.,   0.,   0., 216.,   0.,   0.,  64.,   0.,   0.,   7.]),\n",
       " array([0. , 0.3, 0.6, 0.9, 1.2, 1.5, 1.8, 2.1, 2.4, 2.7, 3. ]),\n",
       " <a list of 10 Patch objects>)"
      ]
     },
     "execution_count": 5,
     "metadata": {},
     "output_type": "execute_result"
    },
    {
     "data": {
      "image/png": "[encoded data removed]",
      "text/plain": [
       "<Figure size 432x288 with 1 Axes>"
      ]
     },
     "metadata": {
      "needs_background": "light"
     },
     "output_type": "display_data"
    }
   ],
   "source": [
    "# Visualizing distribution of a few variables from generateCountVariables (density plots would be better)\n",
    "# Get some decent variability in range of count variable distributions with pois_mean=10\n",
    "var_dict = generateCountVariables(1000,10,pois_mean=2)\n",
    "plt.hist(var_dict[0])\n",
    "plt.hist(var_dict[1])\n",
    "plt.hist(var_dict[2])\n",
    "plt.hist(var_dict[3])\n",
    "plt.hist(var_dict[4])\n",
    "plt.hist(var_dict[5])"
   ]
  },
  {
   "cell_type": "code",
   "execution_count": 6,
   "metadata": {},
   "outputs": [],
   "source": [
    "def generateCategoricalVariables(n, catVar, pois_mean = 5):\n",
    "    temp = {}\n",
    "    \n",
    "    for i in range(catVar):\n",
    "        ### We follow the same principle as count variables. \n",
    "        ### But, finally we convert the categorical variables to dummy variables\n",
    "        ### Note: We use **** k-1 dummy variables **** for k categories (kth variable is baseline)\n",
    "        \n",
    "        np.random.seed(seed = i)   #seed for distribution\n",
    "        random.seed(i)   #seed for random number generator\n",
    "        \n",
    "        # Made it so that number of categories is generated randomly (don't have to supply vector)\n",
    "        noOfCat = np.random.poisson(pois_mean) + 2 #add two to ensure numOfCat > 1\n",
    "        categories = np.arange(noOfCat)\n",
    "        population = np.repeat(categories , n)\n",
    "        random.shuffle(population)\n",
    "        temp[i] = random.sample(list(population), n)\n",
    "    #X = pd.DataFrame.from_dict(temp)\n",
    "    # NOTE: Decided to keep as non-dummy coded dictionary to remain consistent with other variable\n",
    "    # generation codes\n",
    "    ### Changed drop_first to True; otherwise we have multicollinearity\n",
    "    ###X = pd.get_dummies(X,columns=X.columns,drop_first=True)\n",
    "    return temp"
   ]
  },
  {
   "cell_type": "code",
   "execution_count": 7,
   "metadata": {},
   "outputs": [
    {
     "data": {
      "text/plain": [
       "1"
      ]
     },
     "execution_count": 7,
     "metadata": {},
     "output_type": "execute_result"
    }
   ],
   "source": [
    "# Visualizing distribution of a few variables from generateCategoricalVariables (density plots would be better)\n",
    "var_dict = generateCategoricalVariables(10000,10,pois_mean=3)\n",
    "max(var_dict[9])\n",
    "#plt.hist(var_dict[0])\n",
    "#plt.hist(var_dict[1])\n",
    "#plt.hist(var_dict[2])\n",
    "#plt.hist(var_dict[3])\n",
    "#plt.hist(var_dict[4])\n",
    "#plt.hist(var_dict[5])"
   ]
  },
  {
   "cell_type": "code",
   "execution_count": 8,
   "metadata": {},
   "outputs": [],
   "source": [
    "# RANDOM INTERCEPT SHOULD BE PART OF BETAS; FOR DATA JUST NEED COLUMN OF ONES\n",
    "\n",
    "#def generateRandomIntercept(n):\n",
    "#    ### For each observation (X) we generate an intercept\n",
    "#    np.random.seed(seed = 123)\n",
    "#    intercept =  np.random.normal(0, 1, n)\n",
    "#    return intercept"
   ]
  },
  {
   "cell_type": "code",
   "execution_count": 9,
   "metadata": {},
   "outputs": [],
   "source": [
    "### The following function also needs some cleaning up. \n",
    "### It is just generating all types of variables and putting them together\n",
    "### We also define how many observations, how many of each variable we need to generate here\n",
    "\n",
    "def generateX():\n",
    "    \n",
    "    # Enter Number of Observations\n",
    "    n = int(input('Enter number of observations:'))\n",
    "    intercept = np.repeat(1,n) # Create n 1's for intercept column\n",
    "    X = pd.DataFrame(intercept.reshape(n,1))\n",
    "    \n",
    "    # Enter Number of Continuous Variables\n",
    "    normalVar = int(input('Enter number of continuous variables (normally distributed):'))\n",
    "    if normalVar != 0:\n",
    "    #normalVar = 5\n",
    "        Xnorm = generateNormalVariables(n, normalVar)\n",
    "        Xnorm = pd.DataFrame.from_dict(Xnorm)\n",
    "        X = pd.concat([X, Xnorm],ignore_index=True,axis=1)\n",
    "    \n",
    "    # Enter Number of Ordinal Variables\n",
    "    countVar = int(input('Enter number of count variables:'))\n",
    "    if countVar != 0:\n",
    "    #maxCount = input('Enter the numbers separated by space: each number correspond to maxCount:')\n",
    "    #maxCount = list(map(int, maxCount.split()))\n",
    "    #countVar = 1\n",
    "    #maxCount = [4]\n",
    "        Xcnt = generateCountVariables(n, countVar)#Make sure countVar = len(maxCount)\n",
    "        Xcnt = pd.DataFrame.from_dict(Xcnt)\n",
    "        X = pd.concat([X, Xcnt],ignore_index=True,axis=1)\n",
    "\n",
    "    # Enter Number of Nominal Variables\n",
    "    catVar = int(input('Enter number of categorical variables:'))\n",
    "    if catVar != 0:\n",
    "    #catNumber = input('Enter the numbers separated by space: each number correspond to number of categories:')\n",
    "    #catNumber = list(map(int, catNumber.split()))\n",
    "    #catVar = 1\n",
    "    #catNumber = [2]\n",
    "        Xcat = generateCategoricalVariables(n, catVar)#Make sure catvar = len(catNumber)\n",
    "        Xcat = pd.DataFrame.from_dict(Xcat)\n",
    "        Xcat = pd.get_dummies(Xcat, columns=Xcat.columns, drop_first=True)\n",
    "        # Changed drop_first to True; otherwise we have multicollinearity\n",
    "        X = pd.concat([X, Xcat],ignore_index=True,axis=1)\n",
    "    \n",
    "    return X"
   ]
  },
  {
   "cell_type": "code",
   "execution_count": 10,
   "metadata": {},
   "outputs": [
    {
     "name": "stdout",
     "output_type": "stream",
     "text": [
      "Enter number of observations:10\n",
      "Enter number of continuous variables (normally distributed):1\n",
      "Enter number of count variables:1\n",
      "Enter number of categorical variables:1\n"
     ]
    },
    {
     "data": {
      "text/html": [
       "<div>\n",
       "<style scoped>\n",
       "    .dataframe tbody tr th:only-of-type {\n",
       "        vertical-align: middle;\n",
       "    }\n",
       "\n",
       "    .dataframe tbody tr th {\n",
       "        vertical-align: top;\n",
       "    }\n",
       "\n",
       "    .dataframe thead th {\n",
       "        text-align: right;\n",
       "    }\n",
       "</style>\n",
       "<table border=\"1\" class=\"dataframe\">\n",
       "  <thead>\n",
       "    <tr style=\"text-align: right;\">\n",
       "      <th></th>\n",
       "      <th>0</th>\n",
       "      <th>1</th>\n",
       "      <th>2</th>\n",
       "      <th>3</th>\n",
       "      <th>4</th>\n",
       "      <th>5</th>\n",
       "      <th>6</th>\n",
       "      <th>7</th>\n",
       "      <th>8</th>\n",
       "    </tr>\n",
       "  </thead>\n",
       "  <tbody>\n",
       "    <tr>\n",
       "      <td>0</td>\n",
       "      <td>1</td>\n",
       "      <td>2.155701</td>\n",
       "      <td>1</td>\n",
       "      <td>0</td>\n",
       "      <td>1</td>\n",
       "      <td>0</td>\n",
       "      <td>0</td>\n",
       "      <td>0</td>\n",
       "      <td>0</td>\n",
       "    </tr>\n",
       "    <tr>\n",
       "      <td>1</td>\n",
       "      <td>1</td>\n",
       "      <td>2.660762</td>\n",
       "      <td>3</td>\n",
       "      <td>0</td>\n",
       "      <td>0</td>\n",
       "      <td>0</td>\n",
       "      <td>0</td>\n",
       "      <td>0</td>\n",
       "      <td>1</td>\n",
       "    </tr>\n",
       "    <tr>\n",
       "      <td>2</td>\n",
       "      <td>1</td>\n",
       "      <td>2.511369</td>\n",
       "      <td>2</td>\n",
       "      <td>0</td>\n",
       "      <td>0</td>\n",
       "      <td>0</td>\n",
       "      <td>1</td>\n",
       "      <td>0</td>\n",
       "      <td>0</td>\n",
       "    </tr>\n",
       "    <tr>\n",
       "      <td>3</td>\n",
       "      <td>1</td>\n",
       "      <td>1.372988</td>\n",
       "      <td>0</td>\n",
       "      <td>0</td>\n",
       "      <td>1</td>\n",
       "      <td>0</td>\n",
       "      <td>0</td>\n",
       "      <td>0</td>\n",
       "      <td>0</td>\n",
       "    </tr>\n",
       "    <tr>\n",
       "      <td>4</td>\n",
       "      <td>1</td>\n",
       "      <td>2.144237</td>\n",
       "      <td>0</td>\n",
       "      <td>0</td>\n",
       "      <td>0</td>\n",
       "      <td>0</td>\n",
       "      <td>0</td>\n",
       "      <td>0</td>\n",
       "      <td>0</td>\n",
       "    </tr>\n",
       "    <tr>\n",
       "      <td>5</td>\n",
       "      <td>1</td>\n",
       "      <td>1.703486</td>\n",
       "      <td>0</td>\n",
       "      <td>0</td>\n",
       "      <td>0</td>\n",
       "      <td>0</td>\n",
       "      <td>1</td>\n",
       "      <td>0</td>\n",
       "      <td>0</td>\n",
       "    </tr>\n",
       "    <tr>\n",
       "      <td>6</td>\n",
       "      <td>1</td>\n",
       "      <td>1.722749</td>\n",
       "      <td>0</td>\n",
       "      <td>1</td>\n",
       "      <td>0</td>\n",
       "      <td>0</td>\n",
       "      <td>0</td>\n",
       "      <td>0</td>\n",
       "      <td>0</td>\n",
       "    </tr>\n",
       "    <tr>\n",
       "      <td>7</td>\n",
       "      <td>1</td>\n",
       "      <td>1.928356</td>\n",
       "      <td>3</td>\n",
       "      <td>0</td>\n",
       "      <td>0</td>\n",
       "      <td>0</td>\n",
       "      <td>0</td>\n",
       "      <td>1</td>\n",
       "      <td>0</td>\n",
       "    </tr>\n",
       "    <tr>\n",
       "      <td>8</td>\n",
       "      <td>1</td>\n",
       "      <td>1.821692</td>\n",
       "      <td>0</td>\n",
       "      <td>1</td>\n",
       "      <td>0</td>\n",
       "      <td>0</td>\n",
       "      <td>0</td>\n",
       "      <td>0</td>\n",
       "      <td>0</td>\n",
       "    </tr>\n",
       "    <tr>\n",
       "      <td>9</td>\n",
       "      <td>1</td>\n",
       "      <td>2.345990</td>\n",
       "      <td>0</td>\n",
       "      <td>0</td>\n",
       "      <td>0</td>\n",
       "      <td>1</td>\n",
       "      <td>0</td>\n",
       "      <td>0</td>\n",
       "      <td>0</td>\n",
       "    </tr>\n",
       "  </tbody>\n",
       "</table>\n",
       "</div>"
      ],
      "text/plain": [
       "   0         1  2  3  4  5  6  7  8\n",
       "0  1  2.155701  1  0  1  0  0  0  0\n",
       "1  1  2.660762  3  0  0  0  0  0  1\n",
       "2  1  2.511369  2  0  0  0  1  0  0\n",
       "3  1  1.372988  0  0  1  0  0  0  0\n",
       "4  1  2.144237  0  0  0  0  0  0  0\n",
       "5  1  1.703486  0  0  0  0  1  0  0\n",
       "6  1  1.722749  0  1  0  0  0  0  0\n",
       "7  1  1.928356  3  0  0  0  0  1  0\n",
       "8  1  1.821692  0  1  0  0  0  0  0\n",
       "9  1  2.345990  0  0  0  1  0  0  0"
      ]
     },
     "execution_count": 10,
     "metadata": {},
     "output_type": "execute_result"
    }
   ],
   "source": [
    "generateX()"
   ]
  },
  {
   "cell_type": "code",
   "execution_count": 11,
   "metadata": {},
   "outputs": [],
   "source": [
    "### This generates q (p+1) random standard normally distributed betas (including random intercept)\n",
    "### This function needs work\n",
    "### Either we have to find beta's, which work for all three distributions\n",
    "### Or we can generate different sets of beta's for different distribution\n",
    "### I think, same beta's would be better for comparison\n",
    "\n",
    "\n",
    "def generateRandomBeta(q):\n",
    "    beta = {}\n",
    "    for j in range(q):\n",
    "        random.seed(j)#seed for random number generator\n",
    "        beta[j] = np.random.normal(0,0.1)\n",
    "    \n",
    "    beta = pd.DataFrame(list(beta.items()))\n",
    "    beta = beta.drop([0],axis=1)\n",
    "    \n",
    "    return beta"
   ]
  },
  {
   "cell_type": "code",
   "execution_count": 12,
   "metadata": {},
   "outputs": [],
   "source": [
    "#a = generateX()\n",
    "#b = generateRandomBeta(a.shape[1])\n",
    "#m = a.dot(b)"
   ]
  },
  {
   "cell_type": "code",
   "execution_count": 13,
   "metadata": {},
   "outputs": [],
   "source": [
    "#for i in np.squeeze(m.values): print(i)"
   ]
  },
  {
   "cell_type": "code",
   "execution_count": 14,
   "metadata": {},
   "outputs": [],
   "source": [
    "def sigmoid(z):\n",
    "    return 1/(1+np.exp(-z))"
   ]
  },
  {
   "cell_type": "code",
   "execution_count": 15,
   "metadata": {},
   "outputs": [],
   "source": [
    "### This function generates response variable (y)\n",
    "### As input with X matrix n x (p+1), and beta vector (p+1) x 1\n",
    "### We also provide the name of the distribution as a quoted string\n",
    "\n",
    "def generateResponseVariable(X, beta, dist):\n",
    "    if dist == 'bernoulli':\n",
    "        meanValues = sigmoid(X.dot(beta)) \n",
    "    elif dist == 'poisson':\n",
    "        meanValues = np.exp(X.dot(beta))\n",
    "    elif dist == 'exponential':\n",
    "        meanValues = 1/(X.dot(beta))\n",
    "    else:\n",
    "        print('please spell check distribution name, all lowercase: bernoulli, poisson or exponential')\n",
    "        \n",
    "    y = []\n",
    "    \n",
    "    np.random.seed(123)\n",
    "    for eachMean in np.squeeze(meanValues.values):\n",
    "        if dist == 'bernoulli':\n",
    "            randomPrediction = np.random.binomial(1,eachMean)\n",
    "        elif dist == 'poisson':\n",
    "            randomPrediction = np.random.poisson(eachMean)\n",
    "        elif dist == 'exponential':\n",
    "            randomPrediction = np.random.exponential(eachMean)\n",
    "        y.append(randomPrediction)\n",
    "        #print(randomPrediction, eachMean)\n",
    "    \n",
    "    return y"
   ]
  },
  {
   "cell_type": "code",
   "execution_count": 16,
   "metadata": {},
   "outputs": [],
   "source": [
    "### This little function is just commanding to generate X, beta and y\n",
    "def generateData(dist):\n",
    "    X = generateX()\n",
    "\n",
    "    n,q = X.shape\n",
    "    beta = generateRandomBeta(q)\n",
    "\n",
    "    y = generateResponseVariable(X, beta, dist) ### dist means pass distribution name as string\n",
    "    \n",
    "    # Make sure we return numpy arrays (easier to work with later and all names are useless here anyway)\n",
    "    beta = np.array(beta)\n",
    "    X = np.array(X)\n",
    "    y = np.array(y)    \n",
    "    \n",
    "    return X, beta, y"
   ]
  },
  {
   "cell_type": "code",
   "execution_count": 106,
   "metadata": {},
   "outputs": [
    {
     "name": "stdout",
     "output_type": "stream",
     "text": [
      "Enter number of observations:10000\n",
      "Enter number of continuous variables (normally distributed):10\n",
      "Enter number of count variables:0\n",
      "Enter number of categorical variables:0\n"
     ]
    }
   ],
   "source": [
    "X, b, y = generateData('bernoulli')\n",
    "#print(b)"
   ]
  },
  {
   "cell_type": "code",
   "execution_count": 107,
   "metadata": {},
   "outputs": [],
   "source": [
    "#print(np.mean(y))\n",
    "#y = y * (0.5/np.mean(y))\n",
    "#print(np.mean(y))"
   ]
  },
  {
   "cell_type": "code",
   "execution_count": null,
   "metadata": {},
   "outputs": [],
   "source": []
  },
  {
   "cell_type": "markdown",
   "metadata": {},
   "source": [
    "# Working out NR Optimization for Bernoulli"
   ]
  },
  {
   "cell_type": "code",
   "execution_count": 112,
   "metadata": {},
   "outputs": [],
   "source": [
    "def Bernoulli_LL_Derivatives(betas, X, y):\n",
    "    # NOTE: assumes betas, X, and y are all numpy arrays\n",
    "    # Need betas to be 1-D vector; shape (k,) not (k,1)\n",
    "    betas = np.squeeze(betas)\n",
    "    \n",
    "    # Gradient calculation\n",
    "    grad = np.matmul(X.T, y) - np.matmul(X.T, sigmoid(np.matmul(X,betas)))\n",
    "    \n",
    "    # PREVIOUS HESSIAN CODE - IGNORE (KEPT B/C STRUCTURE MAY STILL BE USEFUL IDK...)\n",
    "    # Hessian calculation (not sure how to vectorize this one. If anyone knows how Python does this\n",
    "    # for covariance matrix calculations, I think we could code butcher it to work here)\n",
    "    #hess = []\n",
    "    #for i in range(len(b)):\n",
    "    #    hess_row = []\n",
    "    #    for j in range(len(b)):\n",
    "    #        xixj = np.matmul(X[:,i].T, X[:,j])\n",
    "    #        other = sigmoid(np.squeeze(np.matmul(X,betas)))*sigmoid(-np.squeeze(np.matmul(X,betas)))\n",
    "    #        hess_row.append(-np.sum(xixj*other))\n",
    "    #    hess.append(hess_row)\n",
    "    #hess = np.array(hess) # convert to numpy array\n",
    "    \n",
    "    # Hessian calculation\n",
    "    hess = []\n",
    "    for i in range(len(b)):\n",
    "        hess_row = []\n",
    "        for j in range(len(b)):\n",
    "            cell_value = 0\n",
    "            for obs in range(X.shape[0]):\n",
    "                xixj = X[obs,i] * X[obs,j]\n",
    "                #print(xixj)\n",
    "                other = (sigmoid(np.matmul(X[obs,:],betas)) * sigmoid(-np.matmul(X[obs,:],betas)))\n",
    "                #print(other)\n",
    "                value = -1 * xixj * other\n",
    "                cell_value += value\n",
    "            hess_row.append(cell_value)\n",
    "        hess.append(hess_row)\n",
    "    hess = np.array(hess) # convert to numpy array\n",
    "    \n",
    "    return grad, hess"
   ]
  },
  {
   "cell_type": "code",
   "execution_count": 113,
   "metadata": {},
   "outputs": [],
   "source": [
    "def Bernoulli_NR_UpdateBetas(betas, X, y, grad, hess):\n",
    "    new_betas = np.squeeze(betas) - np.matmul(np.linalg.pinv(hess), grad)\n",
    "    return new_betas"
   ]
  },
  {
   "cell_type": "code",
   "execution_count": 116,
   "metadata": {},
   "outputs": [],
   "source": [
    "def Bernoulli_NR_Optimize(initial_betas, X, y, threshold = 0.00000001, max_counter = 1000):\n",
    "    \n",
    "    # Initialize new_betas\n",
    "    old_betas = np.squeeze(initial_betas)\n",
    "    \n",
    "    # Repeat until max difference between old_betas and new_betas is less than threshold (or until max_counter is exceeded)\n",
    "    max_diff = np.inf\n",
    "    counter = 0\n",
    "    while max_diff > threshold:\n",
    "        \n",
    "        # Break loop if counter exceeds maximum number of allowed iterations\n",
    "        if counter > max_counter:\n",
    "            break\n",
    "            \n",
    "        # Update Step\n",
    "        grad, hess = Bernoulli_LL_Derivatives(old_betas, X, y)\n",
    "        print(np.matmul(np.linalg.pinv(hess), grad))\n",
    "        new_betas = Bernoulli_NR_UpdateBetas(old_betas, X, y, grad, hess)\n",
    "        #print(old_betas)\n",
    "        #print(new_betas)\n",
    "\n",
    "        # Update Control Stuff\n",
    "        max_diff = np.max(new_betas - old_betas)\n",
    "        print(max_diff)\n",
    "        print(\" \")\n",
    "        counter += 1\n",
    "\n",
    "        # Update old_betas for next iteration\n",
    "        old_betas = new_betas\n",
    "            \n",
    "    return new_betas, max_diff, counter"
   ]
  },
  {
   "cell_type": "code",
   "execution_count": 117,
   "metadata": {},
   "outputs": [
    {
     "name": "stdout",
     "output_type": "stream",
     "text": [
      "[-0.55488029  0.10581803 -0.21345707 -0.45523309  0.15140415 -0.06851324\n",
      " -0.10636869  0.23682723  0.01289122 -0.07876795  0.01989709]\n",
      "0.554880285000543\n",
      " \n",
      "[-0.02046458  0.00544772 -0.01115062 -0.02460516  0.00778928 -0.00350328\n",
      " -0.00582137  0.01246593  0.00088797 -0.00423358  0.00073012]\n",
      "0.024605157102286723\n",
      " \n",
      "[-8.72729601e-05  2.44096590e-05 -5.04526553e-05 -1.15296157e-04\n",
      "  3.47405687e-05 -1.57426257e-05 -2.72830762e-05  5.67619271e-05\n",
      "  4.68838968e-06 -1.97061691e-05  2.16666287e-06]\n",
      "0.00011529615735184073\n",
      " \n",
      "[-1.66307831e-09  4.66567627e-10 -9.72964491e-10 -2.27625559e-09\n",
      "  6.61305962e-10 -3.03224649e-10 -5.40498838e-10  1.09957821e-09\n",
      "  1.00581870e-10 -3.88685194e-10  2.49038577e-11]\n",
      "2.276255572919439e-09\n",
      " \n"
     ]
    }
   ],
   "source": [
    "# Testing using true betas or all 0's to initialize (comment one or the other out)\n",
    "new_b, d, c = Bernoulli_NR_Optimize(np.repeat(0,len(b)), X, y)\n",
    "#new_b, d, c = Bernoulli_NR_Optimize(b, X, y)"
   ]
  },
  {
   "cell_type": "code",
   "execution_count": null,
   "metadata": {},
   "outputs": [],
   "source": []
  },
  {
   "cell_type": "code",
   "execution_count": null,
   "metadata": {},
   "outputs": [],
   "source": []
  },
  {
   "cell_type": "code",
   "execution_count": 156,
   "metadata": {},
   "outputs": [],
   "source": []
  },
  {
   "cell_type": "code",
   "execution_count": null,
   "metadata": {},
   "outputs": [],
   "source": []
  },
  {
   "cell_type": "code",
   "execution_count": null,
   "metadata": {},
   "outputs": [],
   "source": []
  },
  {
   "cell_type": "code",
   "execution_count": null,
   "metadata": {},
   "outputs": [],
   "source": []
  },
  {
   "cell_type": "markdown",
   "metadata": {},
   "source": [
    "# Extra Stuff..."
   ]
  },
  {
   "cell_type": "code",
   "execution_count": 18,
   "metadata": {},
   "outputs": [
    {
     "name": "stdout",
     "output_type": "stream",
     "text": [
      "Enter number of observations:5\n",
      "0 1.8888888563301906e-08\n",
      "125 143.73260331555142\n",
      "0 2.4509411367799024e-07\n",
      "289466 288836.245666733\n",
      "0 4.265803164385503e-11\n"
     ]
    },
    {
     "data": {
      "text/plain": [
       "(          0         1         2         3         4         5  6  7  8\n",
       " 0 -5.428153  0.668536  0.553898  0.840467  2.393134  0.035891  1  0  1\n",
       " 1  4.986727  0.151650 -0.393576  1.694675  0.553478  0.244519  1  0  0\n",
       " 2  1.414892  0.370919 -0.358160 -3.233860  0.090866 -0.449930  0  1  3\n",
       " 3 -7.531474  0.849247 -0.588999  5.714737 -2.575844  0.334419  0  1  1\n",
       " 4 -2.893001  0.707762  0.232324 -2.421666 -0.417833 -0.181777  1  0  3,      1\n",
       " 0  1.0\n",
       " 1  1.0\n",
       " 2 -1.5\n",
       " 3  2.0\n",
       " 4 -2.5\n",
       " 5  3.0\n",
       " 6 -3.5\n",
       " 7  4.0\n",
       " 8 -4.5, [0, 125, 0, 289466, 0])"
      ]
     },
     "execution_count": 18,
     "metadata": {},
     "output_type": "execute_result"
    }
   ],
   "source": [
    "### Look at the poisson responses\n",
    "### The dispersion is too high :(\n",
    "### One reason that the X's and beta's need careful consideration\n",
    "generateData('poisson')"
   ]
  },
  {
   "cell_type": "code",
   "execution_count": 17,
   "metadata": {},
   "outputs": [
    {
     "name": "stdout",
     "output_type": "stream",
     "text": [
      "Enter number of observations:5\n",
      "0.04475053649569026 0.05622813149145228\n"
     ]
    },
    {
     "ename": "ValueError",
     "evalue": "scale < 0",
     "output_type": "error",
     "traceback": [
      "\u001b[0;31m---------------------------------------------------------------------------\u001b[0m",
      "\u001b[0;31mValueError\u001b[0m                                Traceback (most recent call last)",
      "\u001b[0;32m<ipython-input-17-e6254ef19df2>\u001b[0m in \u001b[0;36m<module>\u001b[0;34m\u001b[0m\n\u001b[1;32m      1\u001b[0m \u001b[0;31m### All X.beta's have to be negative  :(\u001b[0m\u001b[0;34m\u001b[0m\u001b[0;34m\u001b[0m\u001b[0;34m\u001b[0m\u001b[0m\n\u001b[1;32m      2\u001b[0m \u001b[0;31m### One reason that the generation function of X and beta needs work\u001b[0m\u001b[0;34m\u001b[0m\u001b[0;34m\u001b[0m\u001b[0;34m\u001b[0m\u001b[0m\n\u001b[0;32m----> 3\u001b[0;31m \u001b[0mgenerateData\u001b[0m\u001b[0;34m(\u001b[0m\u001b[0;34m'exponential'\u001b[0m\u001b[0;34m)\u001b[0m\u001b[0;34m\u001b[0m\u001b[0;34m\u001b[0m\u001b[0m\n\u001b[0m",
      "\u001b[0;32m<ipython-input-11-afd55a844d51>\u001b[0m in \u001b[0;36mgenerateData\u001b[0;34m(dist)\u001b[0m\n\u001b[1;32m      6\u001b[0m     \u001b[0mbeta\u001b[0m \u001b[0;34m=\u001b[0m \u001b[0mgenerateRandomBeta\u001b[0m\u001b[0;34m(\u001b[0m\u001b[0mp\u001b[0m\u001b[0;34m)\u001b[0m\u001b[0;34m\u001b[0m\u001b[0;34m\u001b[0m\u001b[0m\n\u001b[1;32m      7\u001b[0m \u001b[0;34m\u001b[0m\u001b[0m\n\u001b[0;32m----> 8\u001b[0;31m     \u001b[0my\u001b[0m \u001b[0;34m=\u001b[0m \u001b[0mgenerateResponseVariable\u001b[0m\u001b[0;34m(\u001b[0m\u001b[0mX\u001b[0m\u001b[0;34m,\u001b[0m \u001b[0mbeta\u001b[0m\u001b[0;34m,\u001b[0m \u001b[0mdist\u001b[0m\u001b[0;34m)\u001b[0m \u001b[0;31m### dist means pass distribution name as string\u001b[0m\u001b[0;34m\u001b[0m\u001b[0;34m\u001b[0m\u001b[0m\n\u001b[0m\u001b[1;32m      9\u001b[0m     \u001b[0;32mreturn\u001b[0m \u001b[0mX\u001b[0m\u001b[0;34m,\u001b[0m \u001b[0mbeta\u001b[0m\u001b[0;34m,\u001b[0m \u001b[0my\u001b[0m\u001b[0;34m\u001b[0m\u001b[0;34m\u001b[0m\u001b[0m\n",
      "\u001b[0;32m<ipython-input-8-14b0c17f63b6>\u001b[0m in \u001b[0;36mgenerateResponseVariable\u001b[0;34m(X, beta, dist)\u001b[0m\n\u001b[1;32m     24\u001b[0m             \u001b[0mrandomPrediction\u001b[0m \u001b[0;34m=\u001b[0m \u001b[0mnp\u001b[0m\u001b[0;34m.\u001b[0m\u001b[0mrandom\u001b[0m\u001b[0;34m.\u001b[0m\u001b[0mpoisson\u001b[0m\u001b[0;34m(\u001b[0m\u001b[0meachMean\u001b[0m\u001b[0;34m)\u001b[0m\u001b[0;34m\u001b[0m\u001b[0;34m\u001b[0m\u001b[0m\n\u001b[1;32m     25\u001b[0m         \u001b[0;32melif\u001b[0m \u001b[0mdist\u001b[0m \u001b[0;34m==\u001b[0m \u001b[0;34m'exponential'\u001b[0m\u001b[0;34m:\u001b[0m\u001b[0;34m\u001b[0m\u001b[0;34m\u001b[0m\u001b[0m\n\u001b[0;32m---> 26\u001b[0;31m             \u001b[0mrandomPrediction\u001b[0m \u001b[0;34m=\u001b[0m \u001b[0mnp\u001b[0m\u001b[0;34m.\u001b[0m\u001b[0mrandom\u001b[0m\u001b[0;34m.\u001b[0m\u001b[0mexponential\u001b[0m\u001b[0;34m(\u001b[0m\u001b[0meachMean\u001b[0m\u001b[0;34m)\u001b[0m\u001b[0;34m\u001b[0m\u001b[0;34m\u001b[0m\u001b[0m\n\u001b[0m\u001b[1;32m     27\u001b[0m         \u001b[0my\u001b[0m\u001b[0;34m.\u001b[0m\u001b[0mappend\u001b[0m\u001b[0;34m(\u001b[0m\u001b[0mrandomPrediction\u001b[0m\u001b[0;34m)\u001b[0m\u001b[0;34m\u001b[0m\u001b[0;34m\u001b[0m\u001b[0m\n\u001b[1;32m     28\u001b[0m         \u001b[0mprint\u001b[0m\u001b[0;34m(\u001b[0m\u001b[0mrandomPrediction\u001b[0m\u001b[0;34m,\u001b[0m \u001b[0meachMean\u001b[0m\u001b[0;34m)\u001b[0m\u001b[0;34m\u001b[0m\u001b[0;34m\u001b[0m\u001b[0m\n",
      "\u001b[0;32mmtrand.pyx\u001b[0m in \u001b[0;36mnumpy.random.mtrand.RandomState.exponential\u001b[0;34m()\u001b[0m\n",
      "\u001b[0;32mcommon.pyx\u001b[0m in \u001b[0;36mnumpy.random.common.cont\u001b[0;34m()\u001b[0m\n",
      "\u001b[0;32mcommon.pyx\u001b[0m in \u001b[0;36mnumpy.random.common.check_constraint\u001b[0;34m()\u001b[0m\n",
      "\u001b[0;31mValueError\u001b[0m: scale < 0"
     ]
    }
   ],
   "source": [
    "### All X.beta's have to be negative  :(\n",
    "### One reason that the generation function of X and beta needs work\n",
    "generateData('exponential')"
   ]
  },
  {
   "cell_type": "markdown",
   "metadata": {},
   "source": [
    "# Below are the individual functions, which I accumulated above. If you guys think the individual functions are better....."
   ]
  },
  {
   "cell_type": "code",
   "execution_count": 83,
   "metadata": {},
   "outputs": [],
   "source": [
    "# def generateBernoulliResponse(X, beta):\n",
    "#     meanValues = sigmoid(X.dot(beta)) ### Applying mean function\n",
    "#     meanValues = np.array([item for sublist in meanValues.values for item in sublist])\n",
    "#     y = []\n",
    "#     for eachMean in meanValues:\n",
    "#         np.random.seed(int(round(eachMean)))\n",
    "#         randomPrediction = np.random.binomial(1,eachMean) ### predict a random number using the mean\n",
    "#         y.append(randomPrediction)\n",
    "#         print(randomPrediction, eachMean)\n",
    "#     return y"
   ]
  },
  {
   "cell_type": "code",
   "execution_count": 88,
   "metadata": {},
   "outputs": [],
   "source": [
    "# def generatePoissonResponse(X, beta):\n",
    "#     meanValues = np.exp(X.dot(beta)) ### Applying mean function\n",
    "#     meanValues = np.array([item for sublist in meanValues.values for item in sublist])\n",
    "#     y = []\n",
    "#     for eachMean in meanValues:\n",
    "#         np.random.seed(int(round(eachMean)))\n",
    "#         randomPrediction = np.random.poisson(eachMean) ### predict a random number using the mean\n",
    "#         y.append(randomPrediction)\n",
    "#         print(randomPrediction, eachMean)\n",
    "#     return y"
   ]
  },
  {
   "cell_type": "code",
   "execution_count": null,
   "metadata": {},
   "outputs": [],
   "source": [
    "# def generateExponentialResponse(X, beta):\n",
    "#     meanValues = -1/X.dot(beta) ### Applying mean function\n",
    "#     meanValues = np.array([item for sublist in meanValues.values for item in sublist])\n",
    "#     y = []\n",
    "#     for eachMean in meanValues:\n",
    "#         np.random.seed(int(round(eachMean)))\n",
    "#         randomPrediction = np.random.exponential(eachMean) ### predict a random number using the mean\n",
    "#         y.append(randomPrediction)\n",
    "#         print(randomPrediction, eachMean)\n",
    "#     return y"
   ]
  },
  {
   "cell_type": "code",
   "execution_count": 95,
   "metadata": {},
   "outputs": [],
   "source": [
    "# def generateBernoulliData():\n",
    "#     X = generateX()\n",
    "\n",
    "#     n,p = X.shape\n",
    "#     beta = generateRandomBeta(p)\n",
    "\n",
    "#     y = generateBernoulliResponse(X, beta)\n",
    "#     return X, beta, y"
   ]
  },
  {
   "cell_type": "code",
   "execution_count": 96,
   "metadata": {},
   "outputs": [],
   "source": [
    "# def generatePoissonData():\n",
    "#     X = generateX()\n",
    "\n",
    "#     n,p = X.shape\n",
    "#     beta = generateRandomBeta(p)\n",
    "\n",
    "#     y = generatePoissonResponse(X, beta)\n",
    "#     return X, beta, y"
   ]
  },
  {
   "cell_type": "code",
   "execution_count": 97,
   "metadata": {},
   "outputs": [],
   "source": [
    "# def generateExponentialData():\n",
    "#     X = generateX()\n",
    "\n",
    "#     n,p = X.shape\n",
    "#     beta = generateRandomBeta(p)\n",
    "\n",
    "#     y = generateExponentialResponse(X, beta)\n",
    "#     return X, beta, y"
   ]
  },
  {
   "cell_type": "code",
   "execution_count": null,
   "metadata": {},
   "outputs": [],
   "source": []
  }
 ],
 "metadata": {
  "kernelspec": {
   "display_name": "Python 3",
   "language": "python",
   "name": "python3"
  },
  "language_info": {
   "codemirror_mode": {
    "name": "ipython",
    "version": 3
   },
   "file_extension": ".py",
   "mimetype": "text/x-python",
   "name": "python",
   "nbconvert_exporter": "python",
   "pygments_lexer": "ipython3",
   "version": "3.7.4"
  }
 },
 "nbformat": 4,
 "nbformat_minor": 2
}
