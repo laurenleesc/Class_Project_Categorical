{
 "cells": [
  {
   "cell_type": "code",
   "execution_count": 17,
   "metadata": {},
   "outputs": [],
   "source": [
    "import numpy as np\n",
    "import pandas as pd\n",
    "import matplotlib.pyplot as plt\n",
    "%matplotlib inline\n",
    "import random\n",
    "from math import exp,log"
   ]
  },
  {
   "cell_type": "code",
   "execution_count": 2,
   "metadata": {},
   "outputs": [],
   "source": [
    "def generateNormalVariables(n, normalVar):\n",
    "    p = normalVar# number of normal predictors\n",
    "    X = {}\n",
    "\n",
    "    for j in range(p):\n",
    "        np.random.seed(seed = j)   #seed for distribution\n",
    "        random.seed(j)   #seed for random number generator\n",
    "        \n",
    "        # The following line generates random (not so random though :) mean and variance\n",
    "        # for each predictor. We have to play with this and definitely this part needs work\n",
    "        mu, sigma = j*(-random.random())**j,random.random()*(j + 0.5*(-1)**j) \n",
    "        \n",
    "        X[j] = np.random.normal(mu, sigma, n)\n",
    "    return X"
   ]
  },
  {
   "cell_type": "code",
   "execution_count": 3,
   "metadata": {},
   "outputs": [],
   "source": [
    "def generateCountVariables(n, countVar, maxCount):\n",
    "    X = {}\n",
    "    \n",
    "    for i in range(countVar):\n",
    "        ### In this part we are generating variable, which takes discrete/count values\n",
    "        ### Earlier we provided arbitary max count (for example: max number of visit to doctor is 6)\n",
    "        ### Then I generate a population of (n x maxCount) entries. Each entry occurs n times in the pop\n",
    "        ### Finally after shuffling the population, we take a random sample of n elements, which is X_i\n",
    "        \n",
    "        maxCt = maxCount[i]\n",
    "        counts = np.arange(maxCt)\n",
    "        population = np.repeat(counts , n)\n",
    "        random.shuffle(population)\n",
    "        X[i] = random.sample(list(population), n)\n",
    "    return X"
   ]
  },
  {
   "cell_type": "code",
   "execution_count": 4,
   "metadata": {},
   "outputs": [],
   "source": [
    "def generateCategoricalVariables(n, catVar, catNumber):\n",
    "    temp = {}\n",
    "    \n",
    "    for i in range(catVar):\n",
    "        ### We follow the same principle as count variables. \n",
    "        ### But, finally we convert the categorical variables to dummy variables\n",
    "        ### Note: We use **** k dummy variables **** for k categories\n",
    "        \n",
    "        \n",
    "        noOfCat = catNumber[i]\n",
    "        categories = np.arange(noOfCat)\n",
    "        population = np.repeat(categories , n)\n",
    "        random.shuffle(population)\n",
    "        temp[i] = random.sample(list(population), n)\n",
    "    X = pd.DataFrame.from_dict(temp)\n",
    "    X = pd.get_dummies(X,columns=X.columns,drop_first=False)\n",
    "    return X"
   ]
  },
  {
   "cell_type": "code",
   "execution_count": 5,
   "metadata": {},
   "outputs": [],
   "source": [
    "def generateRandomIntercept(n):\n",
    "    ### For each observation (X) we generate an intercept\n",
    "    np.random.seed(seed = 123)\n",
    "    intercept =  np.random.normal(0, 1, n)*5\n",
    "    return intercept"
   ]
  },
  {
   "cell_type": "code",
   "execution_count": 6,
   "metadata": {},
   "outputs": [],
   "source": [
    "\n",
    "### The following function also needs some cleaning up. \n",
    "### It is just generating all types of variables and putting them together\n",
    "### We also define how many observations, how many of each variable we need to generate here\n",
    "\n",
    "def generateX():\n",
    "    \n",
    "    n = int(input('Enter number of observations:'))\n",
    "#     normalVar = int(input('Enter number of variables normally distributed:'))\n",
    "    normalVar = 5\n",
    "    Xnorm = generateNormalVariables(n, normalVar)\n",
    "    Xnorm = pd.DataFrame.from_dict(Xnorm)\n",
    "    \n",
    "    \n",
    "#     catVar = int(input('Enter number of categorical variables:'))\n",
    "#     catNumber = input('Enter the numbers separated by space: each number correspond to number of categories:')\n",
    "#     catNumber = list(map(int, catNumber.split()))\n",
    "    catVar = 1\n",
    "    catNumber = [2]\n",
    "    Xcat = generateCategoricalVariables(n, catVar, catNumber)#Make sure catvar = len(catNumber)\n",
    "    \n",
    "    \n",
    "#     countVar = int(input('Enter number of count variables:'))\n",
    "#     maxCount = input('Enter the numbers separated by space: each number correspond to maxCount:')\n",
    "#     maxCount = list(map(int, maxCount.split()))\n",
    "    countVar = 1\n",
    "    maxCount = [4]\n",
    "    Xcnt = generateCountVariables(n, countVar, maxCount)#Make sure countVar = len(maxCount)\n",
    "    Xcnt = pd.DataFrame.from_dict(Xcnt)\n",
    "\n",
    "    \n",
    "    X = pd.concat([Xnorm,Xcat,Xcnt],ignore_index=True,axis=1)\n",
    "    \n",
    "    intercept = np.ones(n)#generateRandomIntercept(n)\n",
    "    intercept = pd.DataFrame(intercept.reshape(n,1))\n",
    "    X = pd.concat([intercept,X],axis = 1,ignore_index=True)#X with intercept\n",
    "    return X"
   ]
  },
  {
   "cell_type": "code",
   "execution_count": 7,
   "metadata": {},
   "outputs": [],
   "source": [
    "def sigmoid(z):\n",
    "    return 1/(1+np.exp(-z))"
   ]
  },
  {
   "cell_type": "code",
   "execution_count": 8,
   "metadata": {},
   "outputs": [],
   "source": [
    "### As input with X matrix n x (p+1), and beta vector (p+1) x 1\n",
    "### We also provide the name of the distribution as a quoted string\n",
    "\n",
    "def generateResponseVariable(X, beta, dist):\n",
    "    if dist == 'bernoulli':\n",
    "        meanValues = sigmoid(X.dot(beta)) \n",
    "    elif dist == 'poisson':\n",
    "        meanValues = np.exp(X.dot(beta))\n",
    "    elif dist == 'exponential':\n",
    "        meanValues = -1/(X.dot(beta))\n",
    "    else:\n",
    "        print('please spell check distribution name, all lowercase: bernoulli, poisson or exponential')\n",
    "        \n",
    "    \n",
    "    meanValues = np.array([item for sublist in meanValues.values for item in sublist])\n",
    "    y = []\n",
    "    \n",
    "    for eachMean in meanValues:\n",
    "        np.random.seed(int(round(eachMean)))\n",
    "        if dist == 'bernoulli':\n",
    "            randomPrediction = np.random.binomial(1,eachMean)\n",
    "        elif dist == 'poisson':\n",
    "            randomPrediction = np.random.poisson(eachMean)\n",
    "        elif dist == 'exponential':\n",
    "            randomPrediction = np.random.exponential(eachMean)\n",
    "        y.append(randomPrediction)\n",
    "        print(randomPrediction, eachMean)\n",
    "    \n",
    "    return y"
   ]
  },
  {
   "cell_type": "code",
   "execution_count": 9,
   "metadata": {},
   "outputs": [],
   "source": [
    "### This generates p random beta and 1 as intercept (which we can consider as true beta)\n",
    "### This function needs work\n",
    "### Either we have to find beta's, which work for all three distributions\n",
    "### Or we can generate different sets of beta's for different distribution\n",
    "### I think, same beta's would be better for comparison\n",
    "\n",
    "\n",
    "def generateRandomBeta(p):\n",
    "    beta = {}\n",
    "    for j in range(p-1):\n",
    "        random.seed(j)#seed for random number generator\n",
    "        beta[j] = (j*0.5+1)*(-1)**j#random beta for each predictor\n",
    "    \n",
    "    beta = pd.DataFrame(list(beta.items()))\n",
    "    beta = beta.drop([0],axis=1)\n",
    "    \n",
    "    beta.loc[-1] = 1\n",
    "    beta.index = beta.index + 1  \n",
    "    beta = beta.sort_index()# Beta with intercept\n",
    "    return beta"
   ]
  },
  {
   "cell_type": "code",
   "execution_count": 10,
   "metadata": {},
   "outputs": [],
   "source": [
    "def generateData(dist):\n",
    "    X = generateX()\n",
    "\n",
    "    n,p = X.shape\n",
    "    beta = generateRandomBeta(p)\n",
    "\n",
    "    y = generateResponseVariable(X, beta, dist) ### dist means pass distribution name as string\n",
    "    return X, beta, y"
   ]
  },
  {
   "cell_type": "code",
   "execution_count": 178,
   "metadata": {},
   "outputs": [
    {
     "name": "stdout",
     "output_type": "stream",
     "text": [
      "Enter number of observations:5\n",
      "0 1.1692643545821063e-05\n",
      "1 0.7273516952021967\n",
      "0 1.61862890530363e-07\n",
      "1 0.999999999317384\n",
      "0 2.092713501987904e-09\n"
     ]
    }
   ],
   "source": [
    "[X, Beta, Y] = generateData('bernoulli')"
   ]
  },
  {
   "cell_type": "code",
   "execution_count": 196,
   "metadata": {},
   "outputs": [
    {
     "data": {
      "text/plain": [
       "[0, 1, 0, 1, 0]"
      ]
     },
     "execution_count": 196,
     "metadata": {},
     "output_type": "execute_result"
    }
   ],
   "source": [
    "Y"
   ]
  },
  {
   "cell_type": "code",
   "execution_count": 139,
   "metadata": {},
   "outputs": [],
   "source": [
    "def LikelihoodBinomial(x, beta, y):\n",
    "    L = 0\n",
    "    for i in range(len(y)):\n",
    "        mu = x.loc[i].values.T.dot(beta)\n",
    "        L += y[i]*mu - log(1+exp(mu))\n",
    "    return L"
   ]
  },
  {
   "cell_type": "code",
   "execution_count": 138,
   "metadata": {},
   "outputs": [],
   "source": [
    "def diffLikelihoodBinomial(x, beta, y):\n",
    "    dL = 0\n",
    "    for i in range(len(y)):\n",
    "        mu = x.loc[i].values.T.dot(beta)\n",
    "        dL += (y[i] - (1/(1+exp(-mu))))* x.loc[i]\n",
    "    return dL"
   ]
  },
  {
   "cell_type": "code",
   "execution_count": 144,
   "metadata": {},
   "outputs": [],
   "source": [
    "def diff2Binomial(x,beta,y):\n",
    "    d2L = 0\n",
    "    #S = pd.DataFrame(np.zeros((len(y), len(y))))\n",
    "    \n",
    "    for i in range(len(y)):\n",
    "        mu = x.loc[i].values.T.dot(beta)\n",
    "        #S[i][i] = mu(1-mu)\n",
    "        S = mu*(1-mu)\n",
    "        d2L += (x.loc[i].values.T.dot(x.loc[i].values))*S\n",
    "    return d2L\n",
    "    "
   ]
  },
  {
   "cell_type": "code",
   "execution_count": 140,
   "metadata": {},
   "outputs": [
    {
     "data": {
      "text/plain": [
       "array([-0.31835701])"
      ]
     },
     "execution_count": 140,
     "metadata": {},
     "output_type": "execute_result"
    }
   ],
   "source": [
    "LikelihoodBinomial(X,Beta,Y)"
   ]
  },
  {
   "cell_type": "code",
   "execution_count": 141,
   "metadata": {},
   "outputs": [
    {
     "data": {
      "text/plain": [
       "0    2.726364e-01\n",
       "1    4.133936e-02\n",
       "2   -1.073142e-01\n",
       "3    4.620410e-01\n",
       "4    1.508768e-01\n",
       "5    6.666742e-02\n",
       "6    2.726366e-01\n",
       "7   -1.611803e-07\n",
       "8   -1.218383e-05\n",
       "Name: 0, dtype: float64"
      ]
     },
     "execution_count": 141,
     "metadata": {},
     "output_type": "execute_result"
    }
   ],
   "source": [
    "diffLikelihoodBinomial(X,Beta,Y)"
   ]
  },
  {
   "cell_type": "code",
   "execution_count": 146,
   "metadata": {},
   "outputs": [
    {
     "data": {
      "text/plain": [
       "array([-3.03264976e-05])"
      ]
     },
     "execution_count": 146,
     "metadata": {},
     "output_type": "execute_result"
    }
   ],
   "source": [
    "1/diff2Binomial(X,Beta,Y)"
   ]
  },
  {
   "cell_type": "code",
   "execution_count": 307,
   "metadata": {},
   "outputs": [],
   "source": [
    "def UpdateBeta(x,beta,y):\n",
    "    beta = beta[1]\n",
    "    print(beta)\n",
    "    InverseDiff2 = diff2Binomial(x,beta,y)\n",
    "    for i in range(len(y)):\n",
    "        mu = x.loc[i].values.T.dot(beta)\n",
    "        xSx = (x.loc[i].values.T.dot(x.loc[i].values))*S\n",
    "        z = (1/xSx)*(y[i] - mu)\n",
    "        z = z[1]\n",
    "        beta += (x.loc[i].values)*z\n",
    "    return beta"
   ]
  },
  {
   "cell_type": "code",
   "execution_count": 309,
   "metadata": {},
   "outputs": [
    {
     "name": "stdout",
     "output_type": "stream",
     "text": [
      "0   -1.101642e+07\n",
      "1   -7.852132e+06\n",
      "2   -2.150992e+06\n",
      "3    2.284154e+07\n",
      "4    5.606072e+06\n",
      "5    1.765265e+06\n",
      "6   -1.051281e+07\n",
      "7   -5.036126e+05\n",
      "8   -3.209461e+07\n",
      "Name: 1, dtype: float64\n"
     ]
    },
    {
     "data": {
      "text/plain": [
       "0   -2.722134e+13\n",
       "1   -1.940242e+13\n",
       "2   -5.314955e+12\n",
       "3    5.644026e+13\n",
       "4    1.385257e+13\n",
       "5    4.361880e+12\n",
       "6   -2.597682e+13\n",
       "7   -1.244522e+12\n",
       "8   -7.930482e+13\n",
       "Name: 1, dtype: float64"
      ]
     },
     "execution_count": 309,
     "metadata": {},
     "output_type": "execute_result"
    }
   ],
   "source": [
    "UpdateBeta(X,Beta,Y)"
   ]
  },
  {
   "cell_type": "code",
   "execution_count": 175,
   "metadata": {},
   "outputs": [],
   "source": [
    "InverseDiff2 = diff2Binomial(X,Beta,Y)"
   ]
  },
  {
   "cell_type": "code",
   "execution_count": 200,
   "metadata": {},
   "outputs": [
    {
     "data": {
      "text/plain": [
       "array([[ 1. ],\n",
       "       [ 1. ],\n",
       "       [-1.5],\n",
       "       [ 2. ],\n",
       "       [-2.5],\n",
       "       [ 3. ],\n",
       "       [-3.5],\n",
       "       [ 4. ],\n",
       "       [-4.5]])"
      ]
     },
     "execution_count": 200,
     "metadata": {},
     "output_type": "execute_result"
    }
   ],
   "source": [
    "Beta.values"
   ]
  },
  {
   "cell_type": "code",
   "execution_count": 168,
   "metadata": {},
   "outputs": [
    {
     "name": "stdout",
     "output_type": "stream",
     "text": [
      "[-32974.46388573]\n",
      "[0.98122742]\n"
     ]
    }
   ],
   "source": [
    "print(InverseDiff2)\n",
    "mu = X.loc[1].values.T.dot(Beta)\n",
    "print(mu)"
   ]
  },
  {
   "cell_type": "code",
   "execution_count": 169,
   "metadata": {},
   "outputs": [
    {
     "data": {
      "text/plain": [
       "1    0.099763\n",
       "dtype: float64"
      ]
     },
     "execution_count": 169,
     "metadata": {},
     "output_type": "execute_result"
    }
   ],
   "source": [
    "(X.loc[1].values.T.dot(X.loc[1].values))*S"
   ]
  },
  {
   "cell_type": "code",
   "execution_count": 195,
   "metadata": {},
   "outputs": [
    {
     "data": {
      "text/plain": [
       "0    1.018773\n",
       "1    1.002847\n",
       "2   -1.507388\n",
       "3    2.031813\n",
       "4   -2.489610\n",
       "5    3.004590\n",
       "6   -3.481227\n",
       "7    4.000000\n",
       "8   -4.500000\n",
       "Name: 1, dtype: float64"
      ]
     },
     "execution_count": 195,
     "metadata": {},
     "output_type": "execute_result"
    }
   ],
   "source": [
    "Beta[1] +(X.loc[1].values.T *(Y[1] - mu))"
   ]
  },
  {
   "cell_type": "code",
   "execution_count": 212,
   "metadata": {},
   "outputs": [
    {
     "name": "stdout",
     "output_type": "stream",
     "text": [
      "[[ 1. ]\n",
      " [ 1. ]\n",
      " [-1.5]\n",
      " [ 2. ]\n",
      " [-2.5]\n",
      " [ 3. ]\n",
      " [-3.5]\n",
      " [ 4. ]\n",
      " [-4.5]]\n",
      "[-11.35653898]\n",
      "1    0.187674\n",
      "dtype: float64\n",
      "1    5.328388\n",
      "dtype: float64\n"
     ]
    },
    {
     "ename": "TypeError",
     "evalue": "unsupported operand type(s) for *: 'NoneType' and 'float'",
     "output_type": "error",
     "traceback": [
      "\u001b[0;31m---------------------------------------------------------------------------\u001b[0m",
      "\u001b[0;31mTypeError\u001b[0m                                 Traceback (most recent call last)",
      "\u001b[0;32m<ipython-input-212-65273d8a398c>\u001b[0m in \u001b[0;36m<module>\u001b[0;34m\u001b[0m\n\u001b[0;32m----> 1\u001b[0;31m \u001b[0mUpdateBeta\u001b[0m\u001b[0;34m(\u001b[0m\u001b[0mX\u001b[0m\u001b[0;34m,\u001b[0m\u001b[0mBeta\u001b[0m\u001b[0;34m,\u001b[0m\u001b[0mY\u001b[0m\u001b[0;34m)\u001b[0m\u001b[0;34m\u001b[0m\u001b[0;34m\u001b[0m\u001b[0m\n\u001b[0m",
      "\u001b[0;32m<ipython-input-211-f3a6d9b7129e>\u001b[0m in \u001b[0;36mUpdateBeta\u001b[0;34m(x, beta, y)\u001b[0m\n\u001b[1;32m      9\u001b[0m         \u001b[0mprint\u001b[0m\u001b[0;34m(\u001b[0m\u001b[0mxSx\u001b[0m\u001b[0;34m)\u001b[0m\u001b[0;34m\u001b[0m\u001b[0;34m\u001b[0m\u001b[0m\n\u001b[1;32m     10\u001b[0m         \u001b[0;31m#beta +=  (1/xSx)* (x.loc[i].values.T *(y[i] - mu))\u001b[0m\u001b[0;34m\u001b[0m\u001b[0;34m\u001b[0m\u001b[0;34m\u001b[0m\u001b[0m\n\u001b[0;32m---> 11\u001b[0;31m         \u001b[0mprint\u001b[0m\u001b[0;34m(\u001b[0m\u001b[0;36m1\u001b[0m\u001b[0;34m/\u001b[0m\u001b[0mxSx\u001b[0m\u001b[0;34m)\u001b[0m\u001b[0;34m*\u001b[0m \u001b[0;34m(\u001b[0m\u001b[0mx\u001b[0m\u001b[0;34m.\u001b[0m\u001b[0mloc\u001b[0m\u001b[0;34m[\u001b[0m\u001b[0mi\u001b[0m\u001b[0;34m]\u001b[0m\u001b[0;34m.\u001b[0m\u001b[0mvalues\u001b[0m\u001b[0;34m.\u001b[0m\u001b[0mT\u001b[0m \u001b[0;34m*\u001b[0m\u001b[0;34m(\u001b[0m\u001b[0my\u001b[0m\u001b[0;34m[\u001b[0m\u001b[0mi\u001b[0m\u001b[0;34m]\u001b[0m \u001b[0;34m-\u001b[0m \u001b[0mmu\u001b[0m\u001b[0;34m)\u001b[0m\u001b[0;34m)\u001b[0m\u001b[0;34m\u001b[0m\u001b[0;34m\u001b[0m\u001b[0m\n\u001b[0m\u001b[1;32m     12\u001b[0m     \u001b[0;32mreturn\u001b[0m \u001b[0mbeta\u001b[0m\u001b[0;34m\u001b[0m\u001b[0;34m\u001b[0m\u001b[0m\n",
      "\u001b[0;31mTypeError\u001b[0m: unsupported operand type(s) for *: 'NoneType' and 'float'"
     ]
    }
   ],
   "source": []
  },
  {
   "cell_type": "code",
   "execution_count": null,
   "metadata": {},
   "outputs": [],
   "source": []
  }
 ],
 "metadata": {
  "kernelspec": {
   "display_name": "Python 3",
   "language": "python",
   "name": "python3"
  },
  "language_info": {
   "codemirror_mode": {
    "name": "ipython",
    "version": 3
   },
   "file_extension": ".py",
   "mimetype": "text/x-python",
   "name": "python",
   "nbconvert_exporter": "python",
   "pygments_lexer": "ipython3",
   "version": "3.7.3"
  }
 },
 "nbformat": 4,
 "nbformat_minor": 2
}
